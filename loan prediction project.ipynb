{
 "cells": [
  {
   "cell_type": "code",
   "execution_count": 1,
   "metadata": {},
   "outputs": [],
   "source": [
    "import pandas as pd\n",
    "import numpy as np\n",
    "import matplotlib as plt\n",
    "import seaborn as sns\n",
    "%matplotlib inline"
   ]
  },
  {
   "cell_type": "code",
   "execution_count": 2,
   "metadata": {},
   "outputs": [],
   "source": [
    "df = pd.read_csv(r\"E:\\LPU\\sem-5\\UPGRAD\\EDA\\DataSets\\loan.csv\",low_memory = False)\n"
   ]
  },
  {
   "cell_type": "code",
   "execution_count": 3,
   "metadata": {},
   "outputs": [
    {
     "data": {
      "text/html": [
       "<div>\n",
       "<style scoped>\n",
       "    .dataframe tbody tr th:only-of-type {\n",
       "        vertical-align: middle;\n",
       "    }\n",
       "\n",
       "    .dataframe tbody tr th {\n",
       "        vertical-align: top;\n",
       "    }\n",
       "\n",
       "    .dataframe thead th {\n",
       "        text-align: right;\n",
       "    }\n",
       "</style>\n",
       "<table border=\"1\" class=\"dataframe\">\n",
       "  <thead>\n",
       "    <tr style=\"text-align: right;\">\n",
       "      <th></th>\n",
       "      <th>id</th>\n",
       "      <th>member_id</th>\n",
       "      <th>loan_amnt</th>\n",
       "      <th>funded_amnt</th>\n",
       "      <th>funded_amnt_inv</th>\n",
       "      <th>term</th>\n",
       "      <th>int_rate</th>\n",
       "      <th>installment</th>\n",
       "      <th>grade</th>\n",
       "      <th>sub_grade</th>\n",
       "      <th>...</th>\n",
       "      <th>num_tl_90g_dpd_24m</th>\n",
       "      <th>num_tl_op_past_12m</th>\n",
       "      <th>pct_tl_nvr_dlq</th>\n",
       "      <th>percent_bc_gt_75</th>\n",
       "      <th>pub_rec_bankruptcies</th>\n",
       "      <th>tax_liens</th>\n",
       "      <th>tot_hi_cred_lim</th>\n",
       "      <th>total_bal_ex_mort</th>\n",
       "      <th>total_bc_limit</th>\n",
       "      <th>total_il_high_credit_limit</th>\n",
       "    </tr>\n",
       "  </thead>\n",
       "  <tbody>\n",
       "    <tr>\n",
       "      <th>0</th>\n",
       "      <td>1077501</td>\n",
       "      <td>1296599</td>\n",
       "      <td>5000</td>\n",
       "      <td>5000</td>\n",
       "      <td>4975.0</td>\n",
       "      <td>36 months</td>\n",
       "      <td>10.65%</td>\n",
       "      <td>162.87</td>\n",
       "      <td>B</td>\n",
       "      <td>B2</td>\n",
       "      <td>...</td>\n",
       "      <td>NaN</td>\n",
       "      <td>NaN</td>\n",
       "      <td>NaN</td>\n",
       "      <td>NaN</td>\n",
       "      <td>0.0</td>\n",
       "      <td>0.0</td>\n",
       "      <td>NaN</td>\n",
       "      <td>NaN</td>\n",
       "      <td>NaN</td>\n",
       "      <td>NaN</td>\n",
       "    </tr>\n",
       "    <tr>\n",
       "      <th>1</th>\n",
       "      <td>1077430</td>\n",
       "      <td>1314167</td>\n",
       "      <td>2500</td>\n",
       "      <td>2500</td>\n",
       "      <td>2500.0</td>\n",
       "      <td>60 months</td>\n",
       "      <td>15.27%</td>\n",
       "      <td>59.83</td>\n",
       "      <td>C</td>\n",
       "      <td>C4</td>\n",
       "      <td>...</td>\n",
       "      <td>NaN</td>\n",
       "      <td>NaN</td>\n",
       "      <td>NaN</td>\n",
       "      <td>NaN</td>\n",
       "      <td>0.0</td>\n",
       "      <td>0.0</td>\n",
       "      <td>NaN</td>\n",
       "      <td>NaN</td>\n",
       "      <td>NaN</td>\n",
       "      <td>NaN</td>\n",
       "    </tr>\n",
       "    <tr>\n",
       "      <th>2</th>\n",
       "      <td>1077175</td>\n",
       "      <td>1313524</td>\n",
       "      <td>2400</td>\n",
       "      <td>2400</td>\n",
       "      <td>2400.0</td>\n",
       "      <td>36 months</td>\n",
       "      <td>15.96%</td>\n",
       "      <td>84.33</td>\n",
       "      <td>C</td>\n",
       "      <td>C5</td>\n",
       "      <td>...</td>\n",
       "      <td>NaN</td>\n",
       "      <td>NaN</td>\n",
       "      <td>NaN</td>\n",
       "      <td>NaN</td>\n",
       "      <td>0.0</td>\n",
       "      <td>0.0</td>\n",
       "      <td>NaN</td>\n",
       "      <td>NaN</td>\n",
       "      <td>NaN</td>\n",
       "      <td>NaN</td>\n",
       "    </tr>\n",
       "    <tr>\n",
       "      <th>3</th>\n",
       "      <td>1076863</td>\n",
       "      <td>1277178</td>\n",
       "      <td>10000</td>\n",
       "      <td>10000</td>\n",
       "      <td>10000.0</td>\n",
       "      <td>36 months</td>\n",
       "      <td>13.49%</td>\n",
       "      <td>339.31</td>\n",
       "      <td>C</td>\n",
       "      <td>C1</td>\n",
       "      <td>...</td>\n",
       "      <td>NaN</td>\n",
       "      <td>NaN</td>\n",
       "      <td>NaN</td>\n",
       "      <td>NaN</td>\n",
       "      <td>0.0</td>\n",
       "      <td>0.0</td>\n",
       "      <td>NaN</td>\n",
       "      <td>NaN</td>\n",
       "      <td>NaN</td>\n",
       "      <td>NaN</td>\n",
       "    </tr>\n",
       "    <tr>\n",
       "      <th>4</th>\n",
       "      <td>1075358</td>\n",
       "      <td>1311748</td>\n",
       "      <td>3000</td>\n",
       "      <td>3000</td>\n",
       "      <td>3000.0</td>\n",
       "      <td>60 months</td>\n",
       "      <td>12.69%</td>\n",
       "      <td>67.79</td>\n",
       "      <td>B</td>\n",
       "      <td>B5</td>\n",
       "      <td>...</td>\n",
       "      <td>NaN</td>\n",
       "      <td>NaN</td>\n",
       "      <td>NaN</td>\n",
       "      <td>NaN</td>\n",
       "      <td>0.0</td>\n",
       "      <td>0.0</td>\n",
       "      <td>NaN</td>\n",
       "      <td>NaN</td>\n",
       "      <td>NaN</td>\n",
       "      <td>NaN</td>\n",
       "    </tr>\n",
       "  </tbody>\n",
       "</table>\n",
       "<p>5 rows × 111 columns</p>\n",
       "</div>"
      ],
      "text/plain": [
       "        id  member_id  loan_amnt  funded_amnt  funded_amnt_inv        term  \\\n",
       "0  1077501    1296599       5000         5000           4975.0   36 months   \n",
       "1  1077430    1314167       2500         2500           2500.0   60 months   \n",
       "2  1077175    1313524       2400         2400           2400.0   36 months   \n",
       "3  1076863    1277178      10000        10000          10000.0   36 months   \n",
       "4  1075358    1311748       3000         3000           3000.0   60 months   \n",
       "\n",
       "  int_rate  installment grade sub_grade  ... num_tl_90g_dpd_24m  \\\n",
       "0   10.65%       162.87     B        B2  ...                NaN   \n",
       "1   15.27%        59.83     C        C4  ...                NaN   \n",
       "2   15.96%        84.33     C        C5  ...                NaN   \n",
       "3   13.49%       339.31     C        C1  ...                NaN   \n",
       "4   12.69%        67.79     B        B5  ...                NaN   \n",
       "\n",
       "  num_tl_op_past_12m pct_tl_nvr_dlq  percent_bc_gt_75 pub_rec_bankruptcies  \\\n",
       "0                NaN            NaN               NaN                  0.0   \n",
       "1                NaN            NaN               NaN                  0.0   \n",
       "2                NaN            NaN               NaN                  0.0   \n",
       "3                NaN            NaN               NaN                  0.0   \n",
       "4                NaN            NaN               NaN                  0.0   \n",
       "\n",
       "  tax_liens tot_hi_cred_lim total_bal_ex_mort total_bc_limit  \\\n",
       "0       0.0             NaN               NaN            NaN   \n",
       "1       0.0             NaN               NaN            NaN   \n",
       "2       0.0             NaN               NaN            NaN   \n",
       "3       0.0             NaN               NaN            NaN   \n",
       "4       0.0             NaN               NaN            NaN   \n",
       "\n",
       "  total_il_high_credit_limit  \n",
       "0                        NaN  \n",
       "1                        NaN  \n",
       "2                        NaN  \n",
       "3                        NaN  \n",
       "4                        NaN  \n",
       "\n",
       "[5 rows x 111 columns]"
      ]
     },
     "execution_count": 3,
     "metadata": {},
     "output_type": "execute_result"
    }
   ],
   "source": [
    "df.head()"
   ]
  },
  {
   "cell_type": "code",
   "execution_count": 4,
   "metadata": {},
   "outputs": [
    {
     "name": "stdout",
     "output_type": "stream",
     "text": [
      "<class 'pandas.core.frame.DataFrame'>\n",
      "RangeIndex: 39717 entries, 0 to 39716\n",
      "Columns: 111 entries, id to total_il_high_credit_limit\n",
      "dtypes: float64(75), int64(7), object(29)\n",
      "memory usage: 33.6+ MB\n"
     ]
    }
   ],
   "source": [
    "df.info()"
   ]
  },
  {
   "cell_type": "markdown",
   "metadata": {},
   "source": [
    "### Data wrangling\n",
    "#### Data Cleaning and Data manipulation"
   ]
  },
  {
   "cell_type": "code",
   "execution_count": 5,
   "metadata": {},
   "outputs": [],
   "source": [
    "df.dropna(axis = 1,inplace=True)"
   ]
  },
  {
   "cell_type": "markdown",
   "metadata": {},
   "source": []
  },
  {
   "cell_type": "code",
   "execution_count": 6,
   "metadata": {},
   "outputs": [
    {
     "name": "stdout",
     "output_type": "stream",
     "text": [
      "<class 'pandas.core.frame.DataFrame'>\n",
      "RangeIndex: 39717 entries, 0 to 39716\n",
      "Data columns (total 39 columns):\n",
      " #   Column                   Non-Null Count  Dtype  \n",
      "---  ------                   --------------  -----  \n",
      " 0   id                       39717 non-null  int64  \n",
      " 1   member_id                39717 non-null  int64  \n",
      " 2   loan_amnt                39717 non-null  int64  \n",
      " 3   funded_amnt              39717 non-null  int64  \n",
      " 4   funded_amnt_inv          39717 non-null  float64\n",
      " 5   term                     39717 non-null  object \n",
      " 6   int_rate                 39717 non-null  object \n",
      " 7   installment              39717 non-null  float64\n",
      " 8   grade                    39717 non-null  object \n",
      " 9   sub_grade                39717 non-null  object \n",
      " 10  home_ownership           39717 non-null  object \n",
      " 11  annual_inc               39717 non-null  float64\n",
      " 12  verification_status      39717 non-null  object \n",
      " 13  issue_d                  39717 non-null  object \n",
      " 14  loan_status              39717 non-null  object \n",
      " 15  pymnt_plan               39717 non-null  object \n",
      " 16  url                      39717 non-null  object \n",
      " 17  purpose                  39717 non-null  object \n",
      " 18  zip_code                 39717 non-null  object \n",
      " 19  addr_state               39717 non-null  object \n",
      " 20  dti                      39717 non-null  float64\n",
      " 21  delinq_2yrs              39717 non-null  object \n",
      " 22  earliest_cr_line         39717 non-null  object \n",
      " 23  inq_last_6mths           39717 non-null  int64  \n",
      " 24  open_acc                 39717 non-null  int64  \n",
      " 25  pub_rec                  39717 non-null  int64  \n",
      " 26  revol_bal                39717 non-null  object \n",
      " 27  total_acc                39717 non-null  object \n",
      " 28  initial_list_status      39717 non-null  object \n",
      " 29  out_prncp                39717 non-null  float64\n",
      " 30  out_prncp_inv            39717 non-null  float64\n",
      " 31  total_pymnt              39717 non-null  float64\n",
      " 32  total_pymnt_inv          39717 non-null  float64\n",
      " 33  total_rec_prncp          39717 non-null  float64\n",
      " 34  total_rec_int            39717 non-null  float64\n",
      " 35  total_rec_late_fee       39717 non-null  float64\n",
      " 36  recoveries               39717 non-null  float64\n",
      " 37  collection_recovery_fee  39717 non-null  object \n",
      " 38  policy_code              39717 non-null  object \n",
      "dtypes: float64(12), int64(7), object(20)\n",
      "memory usage: 11.8+ MB\n"
     ]
    }
   ],
   "source": [
    "#finding the information about the dataset\n",
    "df.info()"
   ]
  },
  {
   "cell_type": "code",
   "execution_count": 7,
   "metadata": {},
   "outputs": [
    {
     "data": {
      "text/plain": [
       "id           39717\n",
       "member_id    39717\n",
       "dtype: int64"
      ]
     },
     "execution_count": 7,
     "metadata": {},
     "output_type": "execute_result"
    }
   ],
   "source": [
    "#checking id and member id if the contain all distinct values or not so that i can drop them\n",
    "df[[\"id\",\"member_id\"]].nunique()"
   ]
  },
  {
   "cell_type": "code",
   "execution_count": 8,
   "metadata": {},
   "outputs": [],
   "source": [
    "#dropping columns on the basis of i dex location\n",
    "#iloc is use to pass index of columns of rows and columns\n",
    "df.drop(df.iloc[:,0:2],inplace = True,  axis = 1)"
   ]
  },
  {
   "cell_type": "code",
   "execution_count": null,
   "metadata": {},
   "outputs": [],
   "source": []
  },
  {
   "cell_type": "code",
   "execution_count": 9,
   "metadata": {},
   "outputs": [
    {
     "data": {
      "text/plain": [
       "array(['RENT', 'OWN', 'MORTGAGE', 'OTHER', 'NONE'], dtype=object)"
      ]
     },
     "execution_count": 9,
     "metadata": {},
     "output_type": "execute_result"
    }
   ],
   "source": [
    "#finding unique types of home ownership\n",
    "df[\"home_ownership\"].unique()"
   ]
  },
  {
   "cell_type": "code",
   "execution_count": 10,
   "metadata": {},
   "outputs": [],
   "source": [
    "#df[\"emp_length\"]"
   ]
  },
  {
   "cell_type": "code",
   "execution_count": 11,
   "metadata": {},
   "outputs": [],
   "source": [
    "#df[\"emp_title\"].unique()"
   ]
  },
  {
   "cell_type": "code",
   "execution_count": 12,
   "metadata": {},
   "outputs": [
    {
     "data": {
      "text/plain": [
       "B    0.302641\n",
       "A    0.253921\n",
       "C    0.203893\n",
       "D    0.133620\n",
       "E    0.071556\n",
       "F    0.026412\n",
       "G    0.007956\n",
       "Name: grade, dtype: float64"
      ]
     },
     "execution_count": 12,
     "metadata": {},
     "output_type": "execute_result"
    }
   ],
   "source": [
    "df[\"grade\"].value_counts(normalize = True)"
   ]
  },
  {
   "cell_type": "code",
   "execution_count": 13,
   "metadata": {},
   "outputs": [
    {
     "data": {
      "text/plain": [
       "array(['B2', 'C4', 'C5', 'C1', 'B5', 'A4', 'E1', 'F2', 'C3', 'B1', 'D1',\n",
       "       'A1', 'B3', 'B4', 'C2', 'D2', 'A3', 'A5', 'D5', 'A2', 'E4', 'D3',\n",
       "       'D4', 'F3', 'E3', 'F4', 'F1', 'E5', 'G4', 'E2', 'G3', 'G2', 'G1',\n",
       "       'F5', 'G5'], dtype=object)"
      ]
     },
     "execution_count": 13,
     "metadata": {},
     "output_type": "execute_result"
    }
   ],
   "source": [
    "df[\"sub_grade\"].unique()"
   ]
  },
  {
   "cell_type": "code",
   "execution_count": 14,
   "metadata": {},
   "outputs": [],
   "source": [
    "verif =  df[\"verification_status\"].value_counts(normalize = True)"
   ]
  },
  {
   "cell_type": "code",
   "execution_count": 15,
   "metadata": {},
   "outputs": [
    {
     "ename": "ValueError",
     "evalue": " is not a valid plot kind",
     "output_type": "error",
     "traceback": [
      "\u001b[1;31m---------------------------------------------------------------------------\u001b[0m",
      "\u001b[1;31mValueError\u001b[0m                                Traceback (most recent call last)",
      "\u001b[1;32mC:\\Users\\OMKARV~1\\AppData\\Local\\Temp/ipykernel_20408/1499337806.py\u001b[0m in \u001b[0;36m<module>\u001b[1;34m\u001b[0m\n\u001b[1;32m----> 1\u001b[1;33m \u001b[0mdf\u001b[0m\u001b[1;33m[\u001b[0m\u001b[1;34m\"loan_status\"\u001b[0m\u001b[1;33m]\u001b[0m\u001b[1;33m.\u001b[0m\u001b[0mvalue_counts\u001b[0m\u001b[1;33m(\u001b[0m\u001b[0mnormalize\u001b[0m \u001b[1;33m=\u001b[0m \u001b[1;32mTrue\u001b[0m\u001b[1;33m)\u001b[0m\u001b[1;33m.\u001b[0m\u001b[0mplot\u001b[0m\u001b[1;33m(\u001b[0m\u001b[0mkind\u001b[0m\u001b[1;33m=\u001b[0m\u001b[1;34m\"\"\u001b[0m\u001b[1;33m)\u001b[0m\u001b[1;33m\u001b[0m\u001b[1;33m\u001b[0m\u001b[0m\n\u001b[0m",
      "\u001b[1;32mc:\\Users\\OMKAR VYAS\\anaconda3\\lib\\site-packages\\pandas\\plotting\\_core.py\u001b[0m in \u001b[0;36m__call__\u001b[1;34m(self, *args, **kwargs)\u001b[0m\n\u001b[0;32m    903\u001b[0m \u001b[1;33m\u001b[0m\u001b[0m\n\u001b[0;32m    904\u001b[0m         \u001b[1;32mif\u001b[0m \u001b[0mkind\u001b[0m \u001b[1;32mnot\u001b[0m \u001b[1;32min\u001b[0m \u001b[0mself\u001b[0m\u001b[1;33m.\u001b[0m\u001b[0m_all_kinds\u001b[0m\u001b[1;33m:\u001b[0m\u001b[1;33m\u001b[0m\u001b[1;33m\u001b[0m\u001b[0m\n\u001b[1;32m--> 905\u001b[1;33m             \u001b[1;32mraise\u001b[0m \u001b[0mValueError\u001b[0m\u001b[1;33m(\u001b[0m\u001b[1;34mf\"{kind} is not a valid plot kind\"\u001b[0m\u001b[1;33m)\u001b[0m\u001b[1;33m\u001b[0m\u001b[1;33m\u001b[0m\u001b[0m\n\u001b[0m\u001b[0;32m    906\u001b[0m \u001b[1;33m\u001b[0m\u001b[0m\n\u001b[0;32m    907\u001b[0m         \u001b[1;31m# The original data structured can be transformed before passed to the\u001b[0m\u001b[1;33m\u001b[0m\u001b[1;33m\u001b[0m\u001b[0m\n",
      "\u001b[1;31mValueError\u001b[0m:  is not a valid plot kind"
     ]
    }
   ],
   "source": [
    "df[\"loan_status\"].value_counts(normalize = True).plot(kind=\"\")"
   ]
  },
  {
   "cell_type": "code",
   "execution_count": 16,
   "metadata": {},
   "outputs": [
    {
     "data": {
      "text/plain": [
       "<AxesSubplot:>"
      ]
     },
     "execution_count": 16,
     "metadata": {},
     "output_type": "execute_result"
    },
    {
     "data": {
      "image/png": "[encoded data removed]",
      "text/plain": [
       "<Figure size 432x288 with 1 Axes>"
      ]
     },
     "metadata": {
      "needs_background": "light"
     },
     "output_type": "display_data"
    }
   ],
   "source": [
    "df[\"purpose\"].value_counts(normalize = True).plot(kind= \"bar\")"
   ]
  },
  {
   "cell_type": "code",
   "execution_count": 17,
   "metadata": {},
   "outputs": [
    {
     "data": {
      "text/plain": [
       "Dec    0.111615\n",
       "Nov    0.104917\n",
       "Oct    0.099051\n",
       "Sep    0.091850\n",
       "Aug    0.088577\n",
       "Jul    0.087519\n",
       "Jun    0.082559\n",
       "May    0.075509\n",
       "Apr    0.071355\n",
       "Mar    0.067780\n",
       "Jan    0.059899\n",
       "Feb    0.059370\n",
       "Name: issue_month, dtype: float64"
      ]
     },
     "execution_count": 17,
     "metadata": {},
     "output_type": "execute_result"
    }
   ],
   "source": [
    "\n",
    "issue = df[\"issue_d\"].str.split(\"-\", n = 1, expand= True)\n",
    "\n",
    "df[\"issue_month\"] = issue[1]\n",
    "df[\"issue_month\"].value_counts(normalize = True)"
   ]
  },
  {
   "cell_type": "code",
   "execution_count": 18,
   "metadata": {},
   "outputs": [],
   "source": [
    "\n",
    "df[\"int_rate\"] = df[\"int_rate\"].str.strip(\"%\")"
   ]
  },
  {
   "cell_type": "code",
   "execution_count": 19,
   "metadata": {},
   "outputs": [
    {
     "data": {
      "text/html": [
       "<div>\n",
       "<style scoped>\n",
       "    .dataframe tbody tr th:only-of-type {\n",
       "        vertical-align: middle;\n",
       "    }\n",
       "\n",
       "    .dataframe tbody tr th {\n",
       "        vertical-align: top;\n",
       "    }\n",
       "\n",
       "    .dataframe thead th {\n",
       "        text-align: right;\n",
       "    }\n",
       "</style>\n",
       "<table border=\"1\" class=\"dataframe\">\n",
       "  <thead>\n",
       "    <tr style=\"text-align: right;\">\n",
       "      <th></th>\n",
       "      <th>loan_amnt</th>\n",
       "      <th>funded_amnt</th>\n",
       "      <th>funded_amnt_inv</th>\n",
       "      <th>term</th>\n",
       "      <th>int_rate</th>\n",
       "      <th>installment</th>\n",
       "      <th>grade</th>\n",
       "      <th>sub_grade</th>\n",
       "      <th>home_ownership</th>\n",
       "      <th>annual_inc</th>\n",
       "      <th>...</th>\n",
       "      <th>out_prncp_inv</th>\n",
       "      <th>total_pymnt</th>\n",
       "      <th>total_pymnt_inv</th>\n",
       "      <th>total_rec_prncp</th>\n",
       "      <th>total_rec_int</th>\n",
       "      <th>total_rec_late_fee</th>\n",
       "      <th>recoveries</th>\n",
       "      <th>collection_recovery_fee</th>\n",
       "      <th>policy_code</th>\n",
       "      <th>issue_month</th>\n",
       "    </tr>\n",
       "  </thead>\n",
       "  <tbody>\n",
       "    <tr>\n",
       "      <th>0</th>\n",
       "      <td>5000</td>\n",
       "      <td>5000</td>\n",
       "      <td>4975.0</td>\n",
       "      <td>36 months</td>\n",
       "      <td>10.65</td>\n",
       "      <td>162.87</td>\n",
       "      <td>B</td>\n",
       "      <td>B2</td>\n",
       "      <td>RENT</td>\n",
       "      <td>24000.0</td>\n",
       "      <td>...</td>\n",
       "      <td>0.00</td>\n",
       "      <td>5863.155187</td>\n",
       "      <td>5833.84</td>\n",
       "      <td>5000.00</td>\n",
       "      <td>863.16</td>\n",
       "      <td>0.00</td>\n",
       "      <td>0.00</td>\n",
       "      <td>0</td>\n",
       "      <td>1</td>\n",
       "      <td>Dec</td>\n",
       "    </tr>\n",
       "    <tr>\n",
       "      <th>1</th>\n",
       "      <td>2500</td>\n",
       "      <td>2500</td>\n",
       "      <td>2500.0</td>\n",
       "      <td>60 months</td>\n",
       "      <td>15.27</td>\n",
       "      <td>59.83</td>\n",
       "      <td>C</td>\n",
       "      <td>C4</td>\n",
       "      <td>RENT</td>\n",
       "      <td>30000.0</td>\n",
       "      <td>...</td>\n",
       "      <td>0.00</td>\n",
       "      <td>1008.710000</td>\n",
       "      <td>1008.71</td>\n",
       "      <td>456.46</td>\n",
       "      <td>435.17</td>\n",
       "      <td>0.00</td>\n",
       "      <td>117.08</td>\n",
       "      <td>1.11</td>\n",
       "      <td>1</td>\n",
       "      <td>Dec</td>\n",
       "    </tr>\n",
       "    <tr>\n",
       "      <th>2</th>\n",
       "      <td>2400</td>\n",
       "      <td>2400</td>\n",
       "      <td>2400.0</td>\n",
       "      <td>36 months</td>\n",
       "      <td>15.96</td>\n",
       "      <td>84.33</td>\n",
       "      <td>C</td>\n",
       "      <td>C5</td>\n",
       "      <td>RENT</td>\n",
       "      <td>12252.0</td>\n",
       "      <td>...</td>\n",
       "      <td>0.00</td>\n",
       "      <td>3005.666844</td>\n",
       "      <td>3005.67</td>\n",
       "      <td>2400.00</td>\n",
       "      <td>605.67</td>\n",
       "      <td>0.00</td>\n",
       "      <td>0.00</td>\n",
       "      <td>0</td>\n",
       "      <td>1</td>\n",
       "      <td>Dec</td>\n",
       "    </tr>\n",
       "    <tr>\n",
       "      <th>3</th>\n",
       "      <td>10000</td>\n",
       "      <td>10000</td>\n",
       "      <td>10000.0</td>\n",
       "      <td>36 months</td>\n",
       "      <td>13.49</td>\n",
       "      <td>339.31</td>\n",
       "      <td>C</td>\n",
       "      <td>C1</td>\n",
       "      <td>RENT</td>\n",
       "      <td>49200.0</td>\n",
       "      <td>...</td>\n",
       "      <td>0.00</td>\n",
       "      <td>12231.890000</td>\n",
       "      <td>12231.89</td>\n",
       "      <td>10000.00</td>\n",
       "      <td>2214.92</td>\n",
       "      <td>16.97</td>\n",
       "      <td>0.00</td>\n",
       "      <td>0</td>\n",
       "      <td>1</td>\n",
       "      <td>Dec</td>\n",
       "    </tr>\n",
       "    <tr>\n",
       "      <th>4</th>\n",
       "      <td>3000</td>\n",
       "      <td>3000</td>\n",
       "      <td>3000.0</td>\n",
       "      <td>60 months</td>\n",
       "      <td>12.69</td>\n",
       "      <td>67.79</td>\n",
       "      <td>B</td>\n",
       "      <td>B5</td>\n",
       "      <td>RENT</td>\n",
       "      <td>80000.0</td>\n",
       "      <td>...</td>\n",
       "      <td>524.06</td>\n",
       "      <td>3513.330000</td>\n",
       "      <td>3513.33</td>\n",
       "      <td>2475.94</td>\n",
       "      <td>1037.39</td>\n",
       "      <td>0.00</td>\n",
       "      <td>0.00</td>\n",
       "      <td>0</td>\n",
       "      <td>1</td>\n",
       "      <td>Dec</td>\n",
       "    </tr>\n",
       "  </tbody>\n",
       "</table>\n",
       "<p>5 rows × 38 columns</p>\n",
       "</div>"
      ],
      "text/plain": [
       "   loan_amnt  funded_amnt  funded_amnt_inv        term int_rate  installment  \\\n",
       "0       5000         5000           4975.0   36 months    10.65       162.87   \n",
       "1       2500         2500           2500.0   60 months    15.27        59.83   \n",
       "2       2400         2400           2400.0   36 months    15.96        84.33   \n",
       "3      10000        10000          10000.0   36 months    13.49       339.31   \n",
       "4       3000         3000           3000.0   60 months    12.69        67.79   \n",
       "\n",
       "  grade sub_grade home_ownership  annual_inc  ... out_prncp_inv   total_pymnt  \\\n",
       "0     B        B2           RENT     24000.0  ...          0.00   5863.155187   \n",
       "1     C        C4           RENT     30000.0  ...          0.00   1008.710000   \n",
       "2     C        C5           RENT     12252.0  ...          0.00   3005.666844   \n",
       "3     C        C1           RENT     49200.0  ...          0.00  12231.890000   \n",
       "4     B        B5           RENT     80000.0  ...        524.06   3513.330000   \n",
       "\n",
       "  total_pymnt_inv total_rec_prncp total_rec_int total_rec_late_fee recoveries  \\\n",
       "0         5833.84         5000.00        863.16               0.00       0.00   \n",
       "1         1008.71          456.46        435.17               0.00     117.08   \n",
       "2         3005.67         2400.00        605.67               0.00       0.00   \n",
       "3        12231.89        10000.00       2214.92              16.97       0.00   \n",
       "4         3513.33         2475.94       1037.39               0.00       0.00   \n",
       "\n",
       "  collection_recovery_fee  policy_code issue_month  \n",
       "0                       0            1         Dec  \n",
       "1                    1.11            1         Dec  \n",
       "2                       0            1         Dec  \n",
       "3                       0            1         Dec  \n",
       "4                       0            1         Dec  \n",
       "\n",
       "[5 rows x 38 columns]"
      ]
     },
     "execution_count": 19,
     "metadata": {},
     "output_type": "execute_result"
    }
   ],
   "source": [
    "df.head()"
   ]
  },
  {
   "cell_type": "code",
   "execution_count": null,
   "metadata": {},
   "outputs": [],
   "source": []
  },
  {
   "cell_type": "code",
   "execution_count": 20,
   "metadata": {},
   "outputs": [
    {
     "name": "stdout",
     "output_type": "stream",
     "text": [
      "<class 'pandas.core.frame.DataFrame'>\n",
      "RangeIndex: 39717 entries, 0 to 39716\n",
      "Data columns (total 38 columns):\n",
      " #   Column                   Non-Null Count  Dtype  \n",
      "---  ------                   --------------  -----  \n",
      " 0   loan_amnt                39717 non-null  int64  \n",
      " 1   funded_amnt              39717 non-null  int64  \n",
      " 2   funded_amnt_inv          39717 non-null  float64\n",
      " 3   term                     39717 non-null  object \n",
      " 4   int_rate                 39717 non-null  object \n",
      " 5   installment              39717 non-null  float64\n",
      " 6   grade                    39717 non-null  object \n",
      " 7   sub_grade                39717 non-null  object \n",
      " 8   home_ownership           39717 non-null  object \n",
      " 9   annual_inc               39717 non-null  float64\n",
      " 10  verification_status      39717 non-null  object \n",
      " 11  issue_d                  39717 non-null  object \n",
      " 12  loan_status              39717 non-null  object \n",
      " 13  pymnt_plan               39717 non-null  object \n",
      " 14  url                      39717 non-null  object \n",
      " 15  purpose                  39717 non-null  object \n",
      " 16  zip_code                 39717 non-null  object \n",
      " 17  addr_state               39717 non-null  object \n",
      " 18  dti                      39717 non-null  float64\n",
      " 19  delinq_2yrs              39717 non-null  object \n",
      " 20  earliest_cr_line         39717 non-null  object \n",
      " 21  inq_last_6mths           39717 non-null  int64  \n",
      " 22  open_acc                 39717 non-null  int64  \n",
      " 23  pub_rec                  39717 non-null  int64  \n",
      " 24  revol_bal                39717 non-null  object \n",
      " 25  total_acc                39717 non-null  object \n",
      " 26  initial_list_status      39717 non-null  object \n",
      " 27  out_prncp                39717 non-null  float64\n",
      " 28  out_prncp_inv            39717 non-null  float64\n",
      " 29  total_pymnt              39717 non-null  float64\n",
      " 30  total_pymnt_inv          39717 non-null  float64\n",
      " 31  total_rec_prncp          39717 non-null  float64\n",
      " 32  total_rec_int            39717 non-null  float64\n",
      " 33  total_rec_late_fee       39717 non-null  float64\n",
      " 34  recoveries               39717 non-null  float64\n",
      " 35  collection_recovery_fee  39717 non-null  object \n",
      " 36  policy_code              39717 non-null  object \n",
      " 37  issue_month              39717 non-null  object \n",
      "dtypes: float64(12), int64(5), object(21)\n",
      "memory usage: 11.5+ MB\n"
     ]
    }
   ],
   "source": [
    "df.info()"
   ]
  },
  {
   "cell_type": "code",
   "execution_count": 21,
   "metadata": {},
   "outputs": [
    {
     "ename": "SyntaxError",
     "evalue": "invalid syntax (Temp/ipykernel_20408/1205764735.py, line 1)",
     "output_type": "error",
     "traceback": [
      "\u001b[1;36m  File \u001b[1;32m\"C:\\Users\\OMKARV~1\\AppData\\Local\\Temp/ipykernel_20408/1205764735.py\"\u001b[1;36m, line \u001b[1;32m1\u001b[0m\n\u001b[1;33m    fig,axs = plt.(figsize = (10,5))\u001b[0m\n\u001b[1;37m                  ^\u001b[0m\n\u001b[1;31mSyntaxError\u001b[0m\u001b[1;31m:\u001b[0m invalid syntax\n"
     ]
    }
   ],
   "source": [
    "fig,axs = plt.(figsize = (10,5))\n",
    "\n",
    "sns.boxplot(x=df[\"loan_amnt\"], notch = True , color= \"orange\")\n",
    "\n"
   ]
  },
  {
   "cell_type": "code",
   "execution_count": 22,
   "metadata": {},
   "outputs": [],
   "source": [
    "\n",
    "\n",
    "#term = df[\"term\"].str.split(\" \",n=1,expand = True)\n",
    "#df[\"term\"] = term[1]\n",
    "\n",
    "df[\"term\"] = df[\"term\"].str.strip(\" months\")\n"
   ]
  },
  {
   "cell_type": "code",
   "execution_count": 23,
   "metadata": {},
   "outputs": [],
   "source": [
    "df[\"term\"] = df[\"term\"].convert_dtypes(\"int64\")\n",
    "term_value = df[\"term\"].value_counts(normalize= True)\n"
   ]
  },
  {
   "cell_type": "code",
   "execution_count": 24,
   "metadata": {},
   "outputs": [
    {
     "data": {
      "text/plain": [
       "<StringArray>\n",
       "['36', '60']\n",
       "Length: 2, dtype: string"
      ]
     },
     "execution_count": 24,
     "metadata": {},
     "output_type": "execute_result"
    }
   ],
   "source": [
    "df[\"term\"].unique()"
   ]
  },
  {
   "cell_type": "code",
   "execution_count": 25,
   "metadata": {},
   "outputs": [
    {
     "data": {
      "text/plain": [
       "<matplotlib.legend.Legend at 0x1f38033bd00>"
      ]
     },
     "execution_count": 25,
     "metadata": {},
     "output_type": "execute_result"
    },
    {
     "data": {
      "image/png": "[encoded data removed]",
      "text/plain": [
       "<Figure size 432x288 with 1 Axes>"
      ]
     },
     "metadata": {},
     "output_type": "display_data"
    }
   ],
   "source": [
    "from matplotlib import pyplot as plt\n",
    "term = [36,60]\n",
    "plt.pie(term_value ,colors=\"cyan\" ,autopct=\"%.2f\")\n",
    "\n",
    "plt.legend( term,\n",
    "          title =\"term\",\n",
    "          loc =\"center left\",\n",
    "          bbox_to_anchor =(1, 0, 0.5, 1))\n",
    " "
   ]
  },
  {
   "cell_type": "code",
   "execution_count": 26,
   "metadata": {},
   "outputs": [
    {
     "data": {
      "image/png": "[encoded data removed]",
      "text/plain": [
       "<Figure size 720x504 with 1 Axes>"
      ]
     },
     "metadata": {
      "needs_background": "light"
     },
     "output_type": "display_data"
    }
   ],
   "source": [
    "from matplotlib import colors\n",
    "from matplotlib.ticker import PercentFormatter\n",
    "\n",
    "\n",
    "# Creating distribution\n",
    "x = df[\"loan_amnt\"]\n",
    "\n",
    "\n",
    "\n",
    "# Creating histogram\n",
    "fig, axs = plt.subplots(1, 1,\n",
    "                        figsize=(10, 7),\n",
    "                        tight_layout=True)\n",
    "\n",
    "\n",
    "# Remove axes splines\n",
    "for s in ['top', 'bottom', 'left', 'right']:\n",
    "    axs.spines[s].set_visible(False)\n",
    "\n",
    "# Remove x, y ticks\n",
    "axs.xaxis.set_ticks_position('none')\n",
    "\n",
    "\n",
    "# Add padding between axes and labels\n",
    "axs.xaxis.set_tick_params(pad=5)\n",
    "\n",
    "# Add x, y gridlines\n",
    "axs.grid(b=True, color='grey',\n",
    "         linestyle='-.', linewidth=0.5,\n",
    "         alpha=0.6)\n",
    "\n",
    "\n",
    "\n",
    "\n",
    "# Creating histogram\n",
    "N, bins, patches = axs.hist(x, bins= 40)\n",
    "\n",
    "# Setting color\n",
    "fracs = ((N**(1 / 5)) / N.max())\n",
    "norm = colors.Normalize(fracs.min(), fracs.max())\n",
    "\n",
    "for thisfrac, thispatch in zip(fracs, patches):\n",
    "    color = plt.cm.viridis(norm(thisfrac))\n",
    "    thispatch.set_facecolor(color)\n",
    "\n",
    "# Adding extra features\n",
    "plt.xlabel(\"loan_amount\")\n",
    "plt.ylabel(\"count\")\n",
    "plt.title('loan amount distribution')\n",
    "\n",
    "# Show plot\n",
    "plt.show()\n"
   ]
  },
  {
   "cell_type": "code",
   "execution_count": 27,
   "metadata": {},
   "outputs": [
    {
     "data": {
      "text/plain": [
       "<AxesSubplot:xlabel='annual_inc', ylabel='loan_amnt'>"
      ]
     },
     "execution_count": 27,
     "metadata": {},
     "output_type": "execute_result"
    },
    {
     "data": {
      "image/png": "[encoded data removed]",
      "text/plain": [
       "<Figure size 432x288 with 1 Axes>"
      ]
     },
     "metadata": {
      "needs_background": "light"
     },
     "output_type": "display_data"
    }
   ],
   "source": [
    "#fig, axs = plt.subplots(1, 1,figsize=(20,6),tight_layout=True)\n",
    "#df[\"annual_inc\"].drop(df[\"annual_inc\"]>1000000)                        \n",
    "\n",
    "sns.kdeplot(y =\"loan_amnt\",x = \"annual_inc\",hue = \"loan_status\",data=df)\n"
   ]
  },
  {
   "cell_type": "code",
   "execution_count": 28,
   "metadata": {},
   "outputs": [
    {
     "data": {
      "text/plain": [
       "<matplotlib.legend.Legend at 0x1f38149b7f0>"
      ]
     },
     "execution_count": 28,
     "metadata": {},
     "output_type": "execute_result"
    },
    {
     "data": {
      "image/png": "[encoded data removed]",
      "text/plain": [
       "<Figure size 432x288 with 1 Axes>"
      ]
     },
     "metadata": {},
     "output_type": "display_data"
    }
   ],
   "source": [
    "plt.pie(verif,autopct=\"%.2f\")\n",
    "\n",
    "\n",
    "plt.legend(df[\"verification_status\"].unique(),\n",
    "           title=\"verification status\",\n",
    "           loc=\"center left\",\n",
    "           bbox_to_anchor=(1, 0, 0.5, 1))\n"
   ]
  },
  {
   "cell_type": "code",
   "execution_count": 29,
   "metadata": {},
   "outputs": [
    {
     "data": {
      "text/plain": [
       "(array([0., 0., 0., 0., 0., 0., 0., 0., 0.]),\n",
       " array([ 2,  4,  6,  8, 10, 12, 14, 16, 18, 20]),\n",
       " <BarContainer object of 9 artists>)"
      ]
     },
     "execution_count": 29,
     "metadata": {},
     "output_type": "execute_result"
    },
    {
     "data": {
      "image/png": "[encoded data removed]",
      "text/plain": [
       "<Figure size 1440x432 with 1 Axes>"
      ]
     },
     "metadata": {
      "needs_background": "light"
     },
     "output_type": "display_data"
    }
   ],
   "source": [
    "fig,ax = plt.subplots(figsize= (20,6)) \n",
    "ax.hist(df[\"annual_inc\"],bins = [2,4,6,8,10,12,14,16,18,20])"
   ]
  },
  {
   "cell_type": "code",
   "execution_count": 30,
   "metadata": {},
   "outputs": [
    {
     "data": {
      "text/plain": [
       "count    3.971700e+04\n",
       "mean     6.896893e+04\n",
       "std      6.379377e+04\n",
       "min      4.000000e+03\n",
       "25%      4.040400e+04\n",
       "50%      5.900000e+04\n",
       "75%      8.230000e+04\n",
       "max      6.000000e+06\n",
       "Name: annual_inc, dtype: float64"
      ]
     },
     "execution_count": 30,
     "metadata": {},
     "output_type": "execute_result"
    }
   ],
   "source": [
    "df[\"annual_inc\"].describe()"
   ]
  },
  {
   "cell_type": "code",
   "execution_count": 31,
   "metadata": {},
   "outputs": [
    {
     "ename": "TypeError",
     "evalue": "Horizontal orientation requires numeric `x` variable.",
     "output_type": "error",
     "traceback": [
      "\u001b[1;31m---------------------------------------------------------------------------\u001b[0m",
      "\u001b[1;31mTypeError\u001b[0m                                 Traceback (most recent call last)",
      "\u001b[1;32mC:\\Users\\OMKARV~1\\AppData\\Local\\Temp/ipykernel_20408/569095688.py\u001b[0m in \u001b[0;36m<module>\u001b[1;34m\u001b[0m\n\u001b[0;32m      7\u001b[0m     \u001b[0max\u001b[0m \u001b[1;33m=\u001b[0m \u001b[0mfig\u001b[0m\u001b[1;33m.\u001b[0m\u001b[0madd_subplot\u001b[0m\u001b[1;33m(\u001b[0m\u001b[0mrows\u001b[0m\u001b[1;33m,\u001b[0m \u001b[0mcols\u001b[0m\u001b[1;33m,\u001b[0m \u001b[0mi\u001b[0m\u001b[1;33m+\u001b[0m\u001b[1;36m1\u001b[0m\u001b[1;33m)\u001b[0m\u001b[1;33m\u001b[0m\u001b[1;33m\u001b[0m\u001b[0m\n\u001b[0;32m      8\u001b[0m \u001b[1;33m\u001b[0m\u001b[0m\n\u001b[1;32m----> 9\u001b[1;33m     \u001b[0msns\u001b[0m\u001b[1;33m.\u001b[0m\u001b[0mboxplot\u001b[0m\u001b[1;33m(\u001b[0m\u001b[0mx\u001b[0m\u001b[1;33m=\u001b[0m\u001b[0mdf\u001b[0m\u001b[1;33m[\u001b[0m\u001b[0mcol\u001b[0m\u001b[1;33m]\u001b[0m\u001b[1;33m,\u001b[0m \u001b[0max\u001b[0m\u001b[1;33m=\u001b[0m\u001b[0max\u001b[0m\u001b[1;33m,\u001b[0m\u001b[0mcolor\u001b[0m\u001b[1;33m=\u001b[0m\u001b[1;34m\"red\"\u001b[0m\u001b[1;33m,\u001b[0m\u001b[0mnotch\u001b[0m \u001b[1;33m=\u001b[0m \u001b[1;32mTrue\u001b[0m\u001b[1;33m)\u001b[0m\u001b[1;33m\u001b[0m\u001b[1;33m\u001b[0m\u001b[0m\n\u001b[0m\u001b[0;32m     10\u001b[0m \u001b[1;33m\u001b[0m\u001b[0m\n\u001b[0;32m     11\u001b[0m \u001b[0mfig\u001b[0m\u001b[1;33m.\u001b[0m\u001b[0mtight_layout\u001b[0m\u001b[1;33m(\u001b[0m\u001b[1;33m)\u001b[0m\u001b[1;33m\u001b[0m\u001b[1;33m\u001b[0m\u001b[0m\n",
      "\u001b[1;32mc:\\Users\\OMKAR VYAS\\anaconda3\\lib\\site-packages\\seaborn\\_decorators.py\u001b[0m in \u001b[0;36minner_f\u001b[1;34m(*args, **kwargs)\u001b[0m\n\u001b[0;32m     44\u001b[0m             )\n\u001b[0;32m     45\u001b[0m         \u001b[0mkwargs\u001b[0m\u001b[1;33m.\u001b[0m\u001b[0mupdate\u001b[0m\u001b[1;33m(\u001b[0m\u001b[1;33m{\u001b[0m\u001b[0mk\u001b[0m\u001b[1;33m:\u001b[0m \u001b[0marg\u001b[0m \u001b[1;32mfor\u001b[0m \u001b[0mk\u001b[0m\u001b[1;33m,\u001b[0m \u001b[0marg\u001b[0m \u001b[1;32min\u001b[0m \u001b[0mzip\u001b[0m\u001b[1;33m(\u001b[0m\u001b[0msig\u001b[0m\u001b[1;33m.\u001b[0m\u001b[0mparameters\u001b[0m\u001b[1;33m,\u001b[0m \u001b[0margs\u001b[0m\u001b[1;33m)\u001b[0m\u001b[1;33m}\u001b[0m\u001b[1;33m)\u001b[0m\u001b[1;33m\u001b[0m\u001b[1;33m\u001b[0m\u001b[0m\n\u001b[1;32m---> 46\u001b[1;33m         \u001b[1;32mreturn\u001b[0m \u001b[0mf\u001b[0m\u001b[1;33m(\u001b[0m\u001b[1;33m**\u001b[0m\u001b[0mkwargs\u001b[0m\u001b[1;33m)\u001b[0m\u001b[1;33m\u001b[0m\u001b[1;33m\u001b[0m\u001b[0m\n\u001b[0m\u001b[0;32m     47\u001b[0m     \u001b[1;32mreturn\u001b[0m \u001b[0minner_f\u001b[0m\u001b[1;33m\u001b[0m\u001b[1;33m\u001b[0m\u001b[0m\n\u001b[0;32m     48\u001b[0m \u001b[1;33m\u001b[0m\u001b[0m\n",
      "\u001b[1;32mc:\\Users\\OMKAR VYAS\\anaconda3\\lib\\site-packages\\seaborn\\categorical.py\u001b[0m in \u001b[0;36mboxplot\u001b[1;34m(x, y, hue, data, order, hue_order, orient, color, palette, saturation, width, dodge, fliersize, linewidth, whis, ax, **kwargs)\u001b[0m\n\u001b[0;32m   2241\u001b[0m ):\n\u001b[0;32m   2242\u001b[0m \u001b[1;33m\u001b[0m\u001b[0m\n\u001b[1;32m-> 2243\u001b[1;33m     plotter = _BoxPlotter(x, y, hue, data, order, hue_order,\n\u001b[0m\u001b[0;32m   2244\u001b[0m                           \u001b[0morient\u001b[0m\u001b[1;33m,\u001b[0m \u001b[0mcolor\u001b[0m\u001b[1;33m,\u001b[0m \u001b[0mpalette\u001b[0m\u001b[1;33m,\u001b[0m \u001b[0msaturation\u001b[0m\u001b[1;33m,\u001b[0m\u001b[1;33m\u001b[0m\u001b[1;33m\u001b[0m\u001b[0m\n\u001b[0;32m   2245\u001b[0m                           width, dodge, fliersize, linewidth)\n",
      "\u001b[1;32mc:\\Users\\OMKAR VYAS\\anaconda3\\lib\\site-packages\\seaborn\\categorical.py\u001b[0m in \u001b[0;36m__init__\u001b[1;34m(self, x, y, hue, data, order, hue_order, orient, color, palette, saturation, width, dodge, fliersize, linewidth)\u001b[0m\n\u001b[0;32m    404\u001b[0m                  width, dodge, fliersize, linewidth):\n\u001b[0;32m    405\u001b[0m \u001b[1;33m\u001b[0m\u001b[0m\n\u001b[1;32m--> 406\u001b[1;33m         \u001b[0mself\u001b[0m\u001b[1;33m.\u001b[0m\u001b[0mestablish_variables\u001b[0m\u001b[1;33m(\u001b[0m\u001b[0mx\u001b[0m\u001b[1;33m,\u001b[0m \u001b[0my\u001b[0m\u001b[1;33m,\u001b[0m \u001b[0mhue\u001b[0m\u001b[1;33m,\u001b[0m \u001b[0mdata\u001b[0m\u001b[1;33m,\u001b[0m \u001b[0morient\u001b[0m\u001b[1;33m,\u001b[0m \u001b[0morder\u001b[0m\u001b[1;33m,\u001b[0m \u001b[0mhue_order\u001b[0m\u001b[1;33m)\u001b[0m\u001b[1;33m\u001b[0m\u001b[1;33m\u001b[0m\u001b[0m\n\u001b[0m\u001b[0;32m    407\u001b[0m         \u001b[0mself\u001b[0m\u001b[1;33m.\u001b[0m\u001b[0mestablish_colors\u001b[0m\u001b[1;33m(\u001b[0m\u001b[0mcolor\u001b[0m\u001b[1;33m,\u001b[0m \u001b[0mpalette\u001b[0m\u001b[1;33m,\u001b[0m \u001b[0msaturation\u001b[0m\u001b[1;33m)\u001b[0m\u001b[1;33m\u001b[0m\u001b[1;33m\u001b[0m\u001b[0m\n\u001b[0;32m    408\u001b[0m \u001b[1;33m\u001b[0m\u001b[0m\n",
      "\u001b[1;32mc:\\Users\\OMKAR VYAS\\anaconda3\\lib\\site-packages\\seaborn\\categorical.py\u001b[0m in \u001b[0;36mestablish_variables\u001b[1;34m(self, x, y, hue, data, orient, order, hue_order, units)\u001b[0m\n\u001b[0;32m    154\u001b[0m \u001b[1;33m\u001b[0m\u001b[0m\n\u001b[0;32m    155\u001b[0m             \u001b[1;31m# Figure out the plotting orientation\u001b[0m\u001b[1;33m\u001b[0m\u001b[1;33m\u001b[0m\u001b[0m\n\u001b[1;32m--> 156\u001b[1;33m             orient = infer_orient(\n\u001b[0m\u001b[0;32m    157\u001b[0m                 \u001b[0mx\u001b[0m\u001b[1;33m,\u001b[0m \u001b[0my\u001b[0m\u001b[1;33m,\u001b[0m \u001b[0morient\u001b[0m\u001b[1;33m,\u001b[0m \u001b[0mrequire_numeric\u001b[0m\u001b[1;33m=\u001b[0m\u001b[0mself\u001b[0m\u001b[1;33m.\u001b[0m\u001b[0mrequire_numeric\u001b[0m\u001b[1;33m\u001b[0m\u001b[1;33m\u001b[0m\u001b[0m\n\u001b[0;32m    158\u001b[0m             )\n",
      "\u001b[1;32mc:\\Users\\OMKAR VYAS\\anaconda3\\lib\\site-packages\\seaborn\\_core.py\u001b[0m in \u001b[0;36minfer_orient\u001b[1;34m(x, y, orient, require_numeric)\u001b[0m\n\u001b[0;32m   1326\u001b[0m             \u001b[0mwarnings\u001b[0m\u001b[1;33m.\u001b[0m\u001b[0mwarn\u001b[0m\u001b[1;33m(\u001b[0m\u001b[0msingle_var_warning\u001b[0m\u001b[1;33m.\u001b[0m\u001b[0mformat\u001b[0m\u001b[1;33m(\u001b[0m\u001b[1;34m\"Vertical\"\u001b[0m\u001b[1;33m,\u001b[0m \u001b[1;34m\"x\"\u001b[0m\u001b[1;33m)\u001b[0m\u001b[1;33m)\u001b[0m\u001b[1;33m\u001b[0m\u001b[1;33m\u001b[0m\u001b[0m\n\u001b[0;32m   1327\u001b[0m         \u001b[1;32mif\u001b[0m \u001b[0mrequire_numeric\u001b[0m \u001b[1;32mand\u001b[0m \u001b[0mx_type\u001b[0m \u001b[1;33m!=\u001b[0m \u001b[1;34m\"numeric\"\u001b[0m\u001b[1;33m:\u001b[0m\u001b[1;33m\u001b[0m\u001b[1;33m\u001b[0m\u001b[0m\n\u001b[1;32m-> 1328\u001b[1;33m             \u001b[1;32mraise\u001b[0m \u001b[0mTypeError\u001b[0m\u001b[1;33m(\u001b[0m\u001b[0mnonnumeric_dv_error\u001b[0m\u001b[1;33m.\u001b[0m\u001b[0mformat\u001b[0m\u001b[1;33m(\u001b[0m\u001b[1;34m\"Horizontal\"\u001b[0m\u001b[1;33m,\u001b[0m \u001b[1;34m\"x\"\u001b[0m\u001b[1;33m)\u001b[0m\u001b[1;33m)\u001b[0m\u001b[1;33m\u001b[0m\u001b[1;33m\u001b[0m\u001b[0m\n\u001b[0m\u001b[0;32m   1329\u001b[0m         \u001b[1;32mreturn\u001b[0m \u001b[1;34m\"h\"\u001b[0m\u001b[1;33m\u001b[0m\u001b[1;33m\u001b[0m\u001b[0m\n\u001b[0;32m   1330\u001b[0m \u001b[1;33m\u001b[0m\u001b[0m\n",
      "\u001b[1;31mTypeError\u001b[0m: Horizontal orientation requires numeric `x` variable."
     ]
    },
    {
     "data": {
      "image/png": "[encoded data removed]",
      "text/plain": [
       "<Figure size 2880x1440 with 4 Axes>"
      ]
     },
     "metadata": {
      "needs_background": "light"
     },
     "output_type": "display_data"
    }
   ],
   "source": [
    "cols = 1\n",
    "rows = 4\n",
    "num_cols = df.select_dtypes(exclude='object').columns\n",
    "fig = plt.figure(figsize=(40, 20))\n",
    "for i, col in enumerate(num_cols):\n",
    "\n",
    "    ax = fig.add_subplot(rows, cols, i+1)\n",
    "\n",
    "    sns.boxplot(x=df[col], ax=ax,color=\"red\",notch = True)\n",
    "\n",
    "fig.tight_layout()\n",
    "plt.show()\n"
   ]
  },
  {
   "cell_type": "code",
   "execution_count": null,
   "metadata": {},
   "outputs": [
    {
     "data": {
      "text/plain": [
       "<AxesSubplot:xlabel='loan_amnt'>"
      ]
     },
     "execution_count": 33,
     "metadata": {},
     "output_type": "execute_result"
    },
    {
     "data": {
      "image/png": "[encoded data removed]",
      "text/plain": [
       "<Figure size 2880x360 with 1 Axes>"
      ]
     },
     "metadata": {
      "needs_background": "light"
     },
     "output_type": "display_data"
    }
   ],
   "source": [
    "fig, ax = plt.subplots(figsize=(40, 5))\n",
    "\n",
    "sns.boxplot(x=df[\"loan_amnt\"], notch=True, color=\"orange\")\n"
   ]
  },
  {
   "cell_type": "code",
   "execution_count": null,
   "metadata": {},
   "outputs": [
    {
     "name": "stdout",
     "output_type": "stream",
     "text": [
      "0        0.857281\n",
      "1        1.245419\n",
      "2        1.260944\n",
      "3        0.081004\n",
      "4        1.167791\n",
      "           ...   \n",
      "39712    1.245419\n",
      "39713    0.313887\n",
      "39714    0.857281\n",
      "39715    0.857281\n",
      "39716    0.469143\n",
      "Name: loan_amnt, Length: 38487, dtype: float64 0        0.848811\n",
      "1        1.249648\n",
      "2        1.265681\n",
      "3        0.047138\n",
      "4        1.169480\n",
      "           ...   \n",
      "39712    1.249648\n",
      "39713    0.287640\n",
      "39714    0.848811\n",
      "39715    0.848811\n",
      "39716    0.447975\n",
      "Name: funded_amnt, Length: 38487, dtype: float64 0        0.772939\n",
      "1        1.172943\n",
      "2        1.189105\n",
      "3        0.039191\n",
      "4        1.092134\n",
      "           ...   \n",
      "39712    1.403249\n",
      "39713    1.435572\n",
      "39714    1.362844\n",
      "39715    1.471936\n",
      "39716    1.447694\n",
      "Name: funded_amnt_inv, Length: 38487, dtype: float64\n"
     ]
    }
   ],
   "source": [
    "from scipy import stats\n",
    "import numpy as np\n",
    "\n",
    "z1 = np.abs(stats.zscore(df[\"loan_amnt\"]))\n",
    "z2 = np.abs(stats.zscore(df[\"funded_amnt\"]))\n",
    "z3 = np.abs(stats.zscore(df[\"funded_amnt_inv\"]))\n",
    "\n",
    "print(z1,z2,z3)\n"
   ]
  },
  {
   "cell_type": "code",
   "execution_count": null,
   "metadata": {},
   "outputs": [
    {
     "name": "stdout",
     "output_type": "stream",
     "text": [
      "Q1 =  5125.0\n",
      "Q3 =  15000.0\n",
      "IQR =  9875.0\n"
     ]
    }
   ],
   "source": [
    "import sklearn \n",
    "\n",
    "Q1 = np.percentile(df[\"loan_amnt\"], 25 , interpolation= \"midpoint\")\n",
    "Q3 = np.percentile(df[\"loan_amnt\"], 75 , interpolation= \"midpoint\")\n",
    "\n",
    "IQR = Q3 - Q1\n",
    "\n",
    "upper = np.where(df[\"loan_amnt\"] >= (Q3 + 1.5*IQR))\n",
    "lower = np.where(df[\"loan_amnt\"] <= (Q1 - 1.5*IQR))\n",
    "\n",
    "df.drop(upper[0], inplace = True)\n",
    "df.drop(lower[0] , inplace = True)\n",
    "print(\"Q1 = \", Q1)\n",
    "print(\"Q3 = \", Q3)\n",
    "print(\"IQR = \", IQR)\n"
   ]
  },
  {
   "cell_type": "code",
   "execution_count": null,
   "metadata": {},
   "outputs": [
    {
     "ename": "KeyError",
     "evalue": "'[7344 9223] not found in axis'",
     "output_type": "error",
     "traceback": [
      "\u001b[1;31m---------------------------------------------------------------------------\u001b[0m",
      "\u001b[1;31mKeyError\u001b[0m                                  Traceback (most recent call last)",
      "\u001b[1;32mC:\\Users\\OMKARV~1\\AppData\\Local\\Temp/ipykernel_12652/4147859341.py\u001b[0m in \u001b[0;36m<module>\u001b[1;34m\u001b[0m\n\u001b[0;32m      7\u001b[0m \u001b[0mlower\u001b[0m \u001b[1;33m=\u001b[0m \u001b[0mnp\u001b[0m\u001b[1;33m.\u001b[0m\u001b[0mwhere\u001b[0m\u001b[1;33m(\u001b[0m\u001b[0mdf\u001b[0m\u001b[1;33m[\u001b[0m\u001b[1;34m\"funded_amnt\"\u001b[0m\u001b[1;33m]\u001b[0m \u001b[1;33m<=\u001b[0m \u001b[1;33m(\u001b[0m\u001b[0mQ1\u001b[0m \u001b[1;33m-\u001b[0m \u001b[1;36m1.5\u001b[0m\u001b[1;33m*\u001b[0m\u001b[0mIQR\u001b[0m\u001b[1;33m)\u001b[0m\u001b[1;33m)\u001b[0m\u001b[1;33m\u001b[0m\u001b[1;33m\u001b[0m\u001b[0m\n\u001b[0;32m      8\u001b[0m \u001b[1;33m\u001b[0m\u001b[0m\n\u001b[1;32m----> 9\u001b[1;33m \u001b[0mdf\u001b[0m\u001b[1;33m.\u001b[0m\u001b[0mdrop\u001b[0m\u001b[1;33m(\u001b[0m\u001b[0mupper\u001b[0m\u001b[1;33m[\u001b[0m\u001b[1;36m0\u001b[0m\u001b[1;33m]\u001b[0m\u001b[1;33m,\u001b[0m \u001b[0minplace\u001b[0m\u001b[1;33m=\u001b[0m\u001b[1;32mTrue\u001b[0m\u001b[1;33m)\u001b[0m\u001b[1;33m\u001b[0m\u001b[1;33m\u001b[0m\u001b[0m\n\u001b[0m\u001b[0;32m     10\u001b[0m \u001b[0mdf\u001b[0m\u001b[1;33m.\u001b[0m\u001b[0mdrop\u001b[0m\u001b[1;33m(\u001b[0m\u001b[0mlower\u001b[0m\u001b[1;33m[\u001b[0m\u001b[1;36m0\u001b[0m\u001b[1;33m]\u001b[0m\u001b[1;33m,\u001b[0m \u001b[0minplace\u001b[0m\u001b[1;33m=\u001b[0m\u001b[1;32mTrue\u001b[0m\u001b[1;33m)\u001b[0m\u001b[1;33m\u001b[0m\u001b[1;33m\u001b[0m\u001b[0m\n\u001b[0;32m     11\u001b[0m \u001b[0mprint\u001b[0m\u001b[1;33m(\u001b[0m\u001b[1;34m\"Q1 = \"\u001b[0m\u001b[1;33m,\u001b[0m \u001b[0mQ1\u001b[0m\u001b[1;33m)\u001b[0m\u001b[1;33m\u001b[0m\u001b[1;33m\u001b[0m\u001b[0m\n",
      "\u001b[1;32mc:\\Users\\OMKAR VYAS\\anaconda3\\lib\\site-packages\\pandas\\util\\_decorators.py\u001b[0m in \u001b[0;36mwrapper\u001b[1;34m(*args, **kwargs)\u001b[0m\n\u001b[0;32m    309\u001b[0m                     \u001b[0mstacklevel\u001b[0m\u001b[1;33m=\u001b[0m\u001b[0mstacklevel\u001b[0m\u001b[1;33m,\u001b[0m\u001b[1;33m\u001b[0m\u001b[1;33m\u001b[0m\u001b[0m\n\u001b[0;32m    310\u001b[0m                 )\n\u001b[1;32m--> 311\u001b[1;33m             \u001b[1;32mreturn\u001b[0m \u001b[0mfunc\u001b[0m\u001b[1;33m(\u001b[0m\u001b[1;33m*\u001b[0m\u001b[0margs\u001b[0m\u001b[1;33m,\u001b[0m \u001b[1;33m**\u001b[0m\u001b[0mkwargs\u001b[0m\u001b[1;33m)\u001b[0m\u001b[1;33m\u001b[0m\u001b[1;33m\u001b[0m\u001b[0m\n\u001b[0m\u001b[0;32m    312\u001b[0m \u001b[1;33m\u001b[0m\u001b[0m\n\u001b[0;32m    313\u001b[0m         \u001b[1;32mreturn\u001b[0m \u001b[0mwrapper\u001b[0m\u001b[1;33m\u001b[0m\u001b[1;33m\u001b[0m\u001b[0m\n",
      "\u001b[1;32mc:\\Users\\OMKAR VYAS\\anaconda3\\lib\\site-packages\\pandas\\core\\frame.py\u001b[0m in \u001b[0;36mdrop\u001b[1;34m(self, labels, axis, index, columns, level, inplace, errors)\u001b[0m\n\u001b[0;32m   4904\u001b[0m                 \u001b[0mweight\u001b[0m  \u001b[1;36m1.0\u001b[0m     \u001b[1;36m0.8\u001b[0m\u001b[1;33m\u001b[0m\u001b[1;33m\u001b[0m\u001b[0m\n\u001b[0;32m   4905\u001b[0m         \"\"\"\n\u001b[1;32m-> 4906\u001b[1;33m         return super().drop(\n\u001b[0m\u001b[0;32m   4907\u001b[0m             \u001b[0mlabels\u001b[0m\u001b[1;33m=\u001b[0m\u001b[0mlabels\u001b[0m\u001b[1;33m,\u001b[0m\u001b[1;33m\u001b[0m\u001b[1;33m\u001b[0m\u001b[0m\n\u001b[0;32m   4908\u001b[0m             \u001b[0maxis\u001b[0m\u001b[1;33m=\u001b[0m\u001b[0maxis\u001b[0m\u001b[1;33m,\u001b[0m\u001b[1;33m\u001b[0m\u001b[1;33m\u001b[0m\u001b[0m\n",
      "\u001b[1;32mc:\\Users\\OMKAR VYAS\\anaconda3\\lib\\site-packages\\pandas\\core\\generic.py\u001b[0m in \u001b[0;36mdrop\u001b[1;34m(self, labels, axis, index, columns, level, inplace, errors)\u001b[0m\n\u001b[0;32m   4148\u001b[0m         \u001b[1;32mfor\u001b[0m \u001b[0maxis\u001b[0m\u001b[1;33m,\u001b[0m \u001b[0mlabels\u001b[0m \u001b[1;32min\u001b[0m \u001b[0maxes\u001b[0m\u001b[1;33m.\u001b[0m\u001b[0mitems\u001b[0m\u001b[1;33m(\u001b[0m\u001b[1;33m)\u001b[0m\u001b[1;33m:\u001b[0m\u001b[1;33m\u001b[0m\u001b[1;33m\u001b[0m\u001b[0m\n\u001b[0;32m   4149\u001b[0m             \u001b[1;32mif\u001b[0m \u001b[0mlabels\u001b[0m \u001b[1;32mis\u001b[0m \u001b[1;32mnot\u001b[0m \u001b[1;32mNone\u001b[0m\u001b[1;33m:\u001b[0m\u001b[1;33m\u001b[0m\u001b[1;33m\u001b[0m\u001b[0m\n\u001b[1;32m-> 4150\u001b[1;33m                 \u001b[0mobj\u001b[0m \u001b[1;33m=\u001b[0m \u001b[0mobj\u001b[0m\u001b[1;33m.\u001b[0m\u001b[0m_drop_axis\u001b[0m\u001b[1;33m(\u001b[0m\u001b[0mlabels\u001b[0m\u001b[1;33m,\u001b[0m \u001b[0maxis\u001b[0m\u001b[1;33m,\u001b[0m \u001b[0mlevel\u001b[0m\u001b[1;33m=\u001b[0m\u001b[0mlevel\u001b[0m\u001b[1;33m,\u001b[0m \u001b[0merrors\u001b[0m\u001b[1;33m=\u001b[0m\u001b[0merrors\u001b[0m\u001b[1;33m)\u001b[0m\u001b[1;33m\u001b[0m\u001b[1;33m\u001b[0m\u001b[0m\n\u001b[0m\u001b[0;32m   4151\u001b[0m \u001b[1;33m\u001b[0m\u001b[0m\n\u001b[0;32m   4152\u001b[0m         \u001b[1;32mif\u001b[0m \u001b[0minplace\u001b[0m\u001b[1;33m:\u001b[0m\u001b[1;33m\u001b[0m\u001b[1;33m\u001b[0m\u001b[0m\n",
      "\u001b[1;32mc:\\Users\\OMKAR VYAS\\anaconda3\\lib\\site-packages\\pandas\\core\\generic.py\u001b[0m in \u001b[0;36m_drop_axis\u001b[1;34m(self, labels, axis, level, errors)\u001b[0m\n\u001b[0;32m   4183\u001b[0m                 \u001b[0mnew_axis\u001b[0m \u001b[1;33m=\u001b[0m \u001b[0maxis\u001b[0m\u001b[1;33m.\u001b[0m\u001b[0mdrop\u001b[0m\u001b[1;33m(\u001b[0m\u001b[0mlabels\u001b[0m\u001b[1;33m,\u001b[0m \u001b[0mlevel\u001b[0m\u001b[1;33m=\u001b[0m\u001b[0mlevel\u001b[0m\u001b[1;33m,\u001b[0m \u001b[0merrors\u001b[0m\u001b[1;33m=\u001b[0m\u001b[0merrors\u001b[0m\u001b[1;33m)\u001b[0m\u001b[1;33m\u001b[0m\u001b[1;33m\u001b[0m\u001b[0m\n\u001b[0;32m   4184\u001b[0m             \u001b[1;32melse\u001b[0m\u001b[1;33m:\u001b[0m\u001b[1;33m\u001b[0m\u001b[1;33m\u001b[0m\u001b[0m\n\u001b[1;32m-> 4185\u001b[1;33m                 \u001b[0mnew_axis\u001b[0m \u001b[1;33m=\u001b[0m \u001b[0maxis\u001b[0m\u001b[1;33m.\u001b[0m\u001b[0mdrop\u001b[0m\u001b[1;33m(\u001b[0m\u001b[0mlabels\u001b[0m\u001b[1;33m,\u001b[0m \u001b[0merrors\u001b[0m\u001b[1;33m=\u001b[0m\u001b[0merrors\u001b[0m\u001b[1;33m)\u001b[0m\u001b[1;33m\u001b[0m\u001b[1;33m\u001b[0m\u001b[0m\n\u001b[0m\u001b[0;32m   4186\u001b[0m             \u001b[0mresult\u001b[0m \u001b[1;33m=\u001b[0m \u001b[0mself\u001b[0m\u001b[1;33m.\u001b[0m\u001b[0mreindex\u001b[0m\u001b[1;33m(\u001b[0m\u001b[1;33m**\u001b[0m\u001b[1;33m{\u001b[0m\u001b[0maxis_name\u001b[0m\u001b[1;33m:\u001b[0m \u001b[0mnew_axis\u001b[0m\u001b[1;33m}\u001b[0m\u001b[1;33m)\u001b[0m\u001b[1;33m\u001b[0m\u001b[1;33m\u001b[0m\u001b[0m\n\u001b[0;32m   4187\u001b[0m \u001b[1;33m\u001b[0m\u001b[0m\n",
      "\u001b[1;32mc:\\Users\\OMKAR VYAS\\anaconda3\\lib\\site-packages\\pandas\\core\\indexes\\base.py\u001b[0m in \u001b[0;36mdrop\u001b[1;34m(self, labels, errors)\u001b[0m\n\u001b[0;32m   6015\u001b[0m         \u001b[1;32mif\u001b[0m \u001b[0mmask\u001b[0m\u001b[1;33m.\u001b[0m\u001b[0many\u001b[0m\u001b[1;33m(\u001b[0m\u001b[1;33m)\u001b[0m\u001b[1;33m:\u001b[0m\u001b[1;33m\u001b[0m\u001b[1;33m\u001b[0m\u001b[0m\n\u001b[0;32m   6016\u001b[0m             \u001b[1;32mif\u001b[0m \u001b[0merrors\u001b[0m \u001b[1;33m!=\u001b[0m \u001b[1;34m\"ignore\"\u001b[0m\u001b[1;33m:\u001b[0m\u001b[1;33m\u001b[0m\u001b[1;33m\u001b[0m\u001b[0m\n\u001b[1;32m-> 6017\u001b[1;33m                 \u001b[1;32mraise\u001b[0m \u001b[0mKeyError\u001b[0m\u001b[1;33m(\u001b[0m\u001b[1;34mf\"{labels[mask]} not found in axis\"\u001b[0m\u001b[1;33m)\u001b[0m\u001b[1;33m\u001b[0m\u001b[1;33m\u001b[0m\u001b[0m\n\u001b[0m\u001b[0;32m   6018\u001b[0m             \u001b[0mindexer\u001b[0m \u001b[1;33m=\u001b[0m \u001b[0mindexer\u001b[0m\u001b[1;33m[\u001b[0m\u001b[1;33m~\u001b[0m\u001b[0mmask\u001b[0m\u001b[1;33m]\u001b[0m\u001b[1;33m\u001b[0m\u001b[1;33m\u001b[0m\u001b[0m\n\u001b[0;32m   6019\u001b[0m         \u001b[1;32mreturn\u001b[0m \u001b[0mself\u001b[0m\u001b[1;33m.\u001b[0m\u001b[0mdelete\u001b[0m\u001b[1;33m(\u001b[0m\u001b[0mindexer\u001b[0m\u001b[1;33m)\u001b[0m\u001b[1;33m\u001b[0m\u001b[1;33m\u001b[0m\u001b[0m\n",
      "\u001b[1;31mKeyError\u001b[0m: '[7344 9223] not found in axis'"
     ]
    }
   ],
   "source": [
    "Q1 = np.percentile(df[\"funded_amnt\"], 25, interpolation=\"midpoint\")\n",
    "Q3 = np.percentile(df[\"funded_amnt\"], 75, interpolation=\"midpoint\")\n",
    "\n",
    "IQR = Q3 - Q1\n",
    "\n",
    "upper = np.where(df[\"funded_amnt\"] >= (Q3 + 1.5*IQR))\n",
    "lower = np.where(df[\"funded_amnt\"] <= (Q1 - 1.5*IQR))\n",
    "\n",
    "df.drop(upper[0], inplace=True)\n",
    "df.drop(lower[0], inplace=True)\n",
    "print(\"Q1 = \", Q1)\n",
    "print(\"Q3 = \", Q3)\n",
    "print(\"IQR = \", IQR)\n"
   ]
  },
  {
   "cell_type": "code",
   "execution_count": null,
   "metadata": {},
   "outputs": [],
   "source": [
    "Q1 = np.percentile(df[\"loan_amnt\"], 25 , interpolation= \"midpoint\")\n",
    "Q3 = np.percentile(df[\"loan_amnt\"], 75 , interpolation= \"midpoint\")\n",
    "\n",
    "IQR = Q3 - Q1\n",
    "\n",
    "upper = np.where(df[\"loan_amnt\"] >= (Q3 + 1.5*IQR))\n",
    "lower = np.where(df[\"loan_amnt\"] <= (Q1 - 1.5*IQR))\n",
    "\n",
    "df.drop(upper[0], inplace = True)\n",
    "df.drop(lower[0] , inplace = True)\n",
    "print(\"Q1 = \", Q1)\n",
    "print(\"Q3 = \", Q3)\n",
    "print(\"IQR = \", IQR)\n"
   ]
  },
  {
   "cell_type": "code",
   "execution_count": null,
   "metadata": {},
   "outputs": [
    {
     "data": {
      "text/plain": [
       "<AxesSubplot:xlabel='loan_amnt'>"
      ]
     },
     "execution_count": 36,
     "metadata": {},
     "output_type": "execute_result"
    },
    {
     "data": {
      "image/png": "[encoded data removed]",
      "text/plain": [
       "<Figure size 2880x360 with 1 Axes>"
      ]
     },
     "metadata": {
      "needs_background": "light"
     },
     "output_type": "display_data"
    }
   ],
   "source": [
    "fig, ax = plt.subplots(figsize=(40, 5))\n",
    "\n",
    "sns.boxplot(x=df[\"loan_amnt\"], notch=True, color=\"orange\")\n"
   ]
  },
  {
   "cell_type": "code",
   "execution_count": null,
   "metadata": {},
   "outputs": [
    {
     "data": {
      "image/png": "[encoded data removed]",
      "text/plain": [
       "<Figure size 2880x360 with 1 Axes>"
      ]
     },
     "metadata": {
      "needs_background": "light"
     },
     "output_type": "display_data"
    }
   ],
   "source": [
    "fig, ax = plt.subplots(figsize=(40, 5))\n",
    "\n",
    "sns.boxplot(x=df[\"annual_inc\"], notch=True, color=\"orange\")\n",
    "dfnew = df[df[\"annual_inc\"] <= 1000000]"
   ]
  },
  {
   "cell_type": "code",
   "execution_count": null,
   "metadata": {},
   "outputs": [
    {
     "ename": "KeyError",
     "evalue": "'[ 5268  9869 11171 13635 17683 18355] not found in axis'",
     "output_type": "error",
     "traceback": [
      "\u001b[1;31m---------------------------------------------------------------------------\u001b[0m",
      "\u001b[1;31mKeyError\u001b[0m                                  Traceback (most recent call last)",
      "\u001b[1;32mC:\\Users\\OMKARV~1\\AppData\\Local\\Temp/ipykernel_12652/3586947529.py\u001b[0m in \u001b[0;36m<module>\u001b[1;34m\u001b[0m\n\u001b[0;32m      9\u001b[0m \u001b[0mlower\u001b[0m \u001b[1;33m=\u001b[0m \u001b[0mnp\u001b[0m\u001b[1;33m.\u001b[0m\u001b[0mwhere\u001b[0m\u001b[1;33m(\u001b[0m\u001b[0mdf\u001b[0m\u001b[1;33m[\u001b[0m\u001b[1;34m\"annual_inc\"\u001b[0m\u001b[1;33m]\u001b[0m \u001b[1;33m<=\u001b[0m \u001b[1;33m(\u001b[0m\u001b[0mQ1\u001b[0m \u001b[1;33m-\u001b[0m \u001b[1;36m1.5\u001b[0m\u001b[1;33m*\u001b[0m\u001b[0mIQR\u001b[0m\u001b[1;33m)\u001b[0m\u001b[1;33m)\u001b[0m\u001b[1;33m\u001b[0m\u001b[1;33m\u001b[0m\u001b[0m\n\u001b[0;32m     10\u001b[0m \u001b[1;33m\u001b[0m\u001b[0m\n\u001b[1;32m---> 11\u001b[1;33m \u001b[0mdf\u001b[0m\u001b[1;33m.\u001b[0m\u001b[0mdrop\u001b[0m\u001b[1;33m(\u001b[0m\u001b[0mupper\u001b[0m\u001b[1;33m[\u001b[0m\u001b[1;36m0\u001b[0m\u001b[1;33m]\u001b[0m\u001b[1;33m,\u001b[0m \u001b[0minplace\u001b[0m\u001b[1;33m=\u001b[0m\u001b[1;32mTrue\u001b[0m\u001b[1;33m)\u001b[0m\u001b[1;33m\u001b[0m\u001b[1;33m\u001b[0m\u001b[0m\n\u001b[0m\u001b[0;32m     12\u001b[0m \u001b[0mdf\u001b[0m\u001b[1;33m.\u001b[0m\u001b[0mdrop\u001b[0m\u001b[1;33m(\u001b[0m\u001b[0mlower\u001b[0m\u001b[1;33m[\u001b[0m\u001b[1;36m0\u001b[0m\u001b[1;33m]\u001b[0m\u001b[1;33m,\u001b[0m \u001b[0minplace\u001b[0m\u001b[1;33m=\u001b[0m\u001b[1;32mTrue\u001b[0m\u001b[1;33m)\u001b[0m\u001b[1;33m\u001b[0m\u001b[1;33m\u001b[0m\u001b[0m\n",
      "\u001b[1;32mc:\\Users\\OMKAR VYAS\\anaconda3\\lib\\site-packages\\pandas\\util\\_decorators.py\u001b[0m in \u001b[0;36mwrapper\u001b[1;34m(*args, **kwargs)\u001b[0m\n\u001b[0;32m    309\u001b[0m                     \u001b[0mstacklevel\u001b[0m\u001b[1;33m=\u001b[0m\u001b[0mstacklevel\u001b[0m\u001b[1;33m,\u001b[0m\u001b[1;33m\u001b[0m\u001b[1;33m\u001b[0m\u001b[0m\n\u001b[0;32m    310\u001b[0m                 )\n\u001b[1;32m--> 311\u001b[1;33m             \u001b[1;32mreturn\u001b[0m \u001b[0mfunc\u001b[0m\u001b[1;33m(\u001b[0m\u001b[1;33m*\u001b[0m\u001b[0margs\u001b[0m\u001b[1;33m,\u001b[0m \u001b[1;33m**\u001b[0m\u001b[0mkwargs\u001b[0m\u001b[1;33m)\u001b[0m\u001b[1;33m\u001b[0m\u001b[1;33m\u001b[0m\u001b[0m\n\u001b[0m\u001b[0;32m    312\u001b[0m \u001b[1;33m\u001b[0m\u001b[0m\n\u001b[0;32m    313\u001b[0m         \u001b[1;32mreturn\u001b[0m \u001b[0mwrapper\u001b[0m\u001b[1;33m\u001b[0m\u001b[1;33m\u001b[0m\u001b[0m\n",
      "\u001b[1;32mc:\\Users\\OMKAR VYAS\\anaconda3\\lib\\site-packages\\pandas\\core\\frame.py\u001b[0m in \u001b[0;36mdrop\u001b[1;34m(self, labels, axis, index, columns, level, inplace, errors)\u001b[0m\n\u001b[0;32m   4904\u001b[0m                 \u001b[0mweight\u001b[0m  \u001b[1;36m1.0\u001b[0m     \u001b[1;36m0.8\u001b[0m\u001b[1;33m\u001b[0m\u001b[1;33m\u001b[0m\u001b[0m\n\u001b[0;32m   4905\u001b[0m         \"\"\"\n\u001b[1;32m-> 4906\u001b[1;33m         return super().drop(\n\u001b[0m\u001b[0;32m   4907\u001b[0m             \u001b[0mlabels\u001b[0m\u001b[1;33m=\u001b[0m\u001b[0mlabels\u001b[0m\u001b[1;33m,\u001b[0m\u001b[1;33m\u001b[0m\u001b[1;33m\u001b[0m\u001b[0m\n\u001b[0;32m   4908\u001b[0m             \u001b[0maxis\u001b[0m\u001b[1;33m=\u001b[0m\u001b[0maxis\u001b[0m\u001b[1;33m,\u001b[0m\u001b[1;33m\u001b[0m\u001b[1;33m\u001b[0m\u001b[0m\n",
      "\u001b[1;32mc:\\Users\\OMKAR VYAS\\anaconda3\\lib\\site-packages\\pandas\\core\\generic.py\u001b[0m in \u001b[0;36mdrop\u001b[1;34m(self, labels, axis, index, columns, level, inplace, errors)\u001b[0m\n\u001b[0;32m   4148\u001b[0m         \u001b[1;32mfor\u001b[0m \u001b[0maxis\u001b[0m\u001b[1;33m,\u001b[0m \u001b[0mlabels\u001b[0m \u001b[1;32min\u001b[0m \u001b[0maxes\u001b[0m\u001b[1;33m.\u001b[0m\u001b[0mitems\u001b[0m\u001b[1;33m(\u001b[0m\u001b[1;33m)\u001b[0m\u001b[1;33m:\u001b[0m\u001b[1;33m\u001b[0m\u001b[1;33m\u001b[0m\u001b[0m\n\u001b[0;32m   4149\u001b[0m             \u001b[1;32mif\u001b[0m \u001b[0mlabels\u001b[0m \u001b[1;32mis\u001b[0m \u001b[1;32mnot\u001b[0m \u001b[1;32mNone\u001b[0m\u001b[1;33m:\u001b[0m\u001b[1;33m\u001b[0m\u001b[1;33m\u001b[0m\u001b[0m\n\u001b[1;32m-> 4150\u001b[1;33m                 \u001b[0mobj\u001b[0m \u001b[1;33m=\u001b[0m \u001b[0mobj\u001b[0m\u001b[1;33m.\u001b[0m\u001b[0m_drop_axis\u001b[0m\u001b[1;33m(\u001b[0m\u001b[0mlabels\u001b[0m\u001b[1;33m,\u001b[0m \u001b[0maxis\u001b[0m\u001b[1;33m,\u001b[0m \u001b[0mlevel\u001b[0m\u001b[1;33m=\u001b[0m\u001b[0mlevel\u001b[0m\u001b[1;33m,\u001b[0m \u001b[0merrors\u001b[0m\u001b[1;33m=\u001b[0m\u001b[0merrors\u001b[0m\u001b[1;33m)\u001b[0m\u001b[1;33m\u001b[0m\u001b[1;33m\u001b[0m\u001b[0m\n\u001b[0m\u001b[0;32m   4151\u001b[0m \u001b[1;33m\u001b[0m\u001b[0m\n\u001b[0;32m   4152\u001b[0m         \u001b[1;32mif\u001b[0m \u001b[0minplace\u001b[0m\u001b[1;33m:\u001b[0m\u001b[1;33m\u001b[0m\u001b[1;33m\u001b[0m\u001b[0m\n",
      "\u001b[1;32mc:\\Users\\OMKAR VYAS\\anaconda3\\lib\\site-packages\\pandas\\core\\generic.py\u001b[0m in \u001b[0;36m_drop_axis\u001b[1;34m(self, labels, axis, level, errors)\u001b[0m\n\u001b[0;32m   4183\u001b[0m                 \u001b[0mnew_axis\u001b[0m \u001b[1;33m=\u001b[0m \u001b[0maxis\u001b[0m\u001b[1;33m.\u001b[0m\u001b[0mdrop\u001b[0m\u001b[1;33m(\u001b[0m\u001b[0mlabels\u001b[0m\u001b[1;33m,\u001b[0m \u001b[0mlevel\u001b[0m\u001b[1;33m=\u001b[0m\u001b[0mlevel\u001b[0m\u001b[1;33m,\u001b[0m \u001b[0merrors\u001b[0m\u001b[1;33m=\u001b[0m\u001b[0merrors\u001b[0m\u001b[1;33m)\u001b[0m\u001b[1;33m\u001b[0m\u001b[1;33m\u001b[0m\u001b[0m\n\u001b[0;32m   4184\u001b[0m             \u001b[1;32melse\u001b[0m\u001b[1;33m:\u001b[0m\u001b[1;33m\u001b[0m\u001b[1;33m\u001b[0m\u001b[0m\n\u001b[1;32m-> 4185\u001b[1;33m                 \u001b[0mnew_axis\u001b[0m \u001b[1;33m=\u001b[0m \u001b[0maxis\u001b[0m\u001b[1;33m.\u001b[0m\u001b[0mdrop\u001b[0m\u001b[1;33m(\u001b[0m\u001b[0mlabels\u001b[0m\u001b[1;33m,\u001b[0m \u001b[0merrors\u001b[0m\u001b[1;33m=\u001b[0m\u001b[0merrors\u001b[0m\u001b[1;33m)\u001b[0m\u001b[1;33m\u001b[0m\u001b[1;33m\u001b[0m\u001b[0m\n\u001b[0m\u001b[0;32m   4186\u001b[0m             \u001b[0mresult\u001b[0m \u001b[1;33m=\u001b[0m \u001b[0mself\u001b[0m\u001b[1;33m.\u001b[0m\u001b[0mreindex\u001b[0m\u001b[1;33m(\u001b[0m\u001b[1;33m**\u001b[0m\u001b[1;33m{\u001b[0m\u001b[0maxis_name\u001b[0m\u001b[1;33m:\u001b[0m \u001b[0mnew_axis\u001b[0m\u001b[1;33m}\u001b[0m\u001b[1;33m)\u001b[0m\u001b[1;33m\u001b[0m\u001b[1;33m\u001b[0m\u001b[0m\n\u001b[0;32m   4187\u001b[0m \u001b[1;33m\u001b[0m\u001b[0m\n",
      "\u001b[1;32mc:\\Users\\OMKAR VYAS\\anaconda3\\lib\\site-packages\\pandas\\core\\indexes\\base.py\u001b[0m in \u001b[0;36mdrop\u001b[1;34m(self, labels, errors)\u001b[0m\n\u001b[0;32m   6015\u001b[0m         \u001b[1;32mif\u001b[0m \u001b[0mmask\u001b[0m\u001b[1;33m.\u001b[0m\u001b[0many\u001b[0m\u001b[1;33m(\u001b[0m\u001b[1;33m)\u001b[0m\u001b[1;33m:\u001b[0m\u001b[1;33m\u001b[0m\u001b[1;33m\u001b[0m\u001b[0m\n\u001b[0;32m   6016\u001b[0m             \u001b[1;32mif\u001b[0m \u001b[0merrors\u001b[0m \u001b[1;33m!=\u001b[0m \u001b[1;34m\"ignore\"\u001b[0m\u001b[1;33m:\u001b[0m\u001b[1;33m\u001b[0m\u001b[1;33m\u001b[0m\u001b[0m\n\u001b[1;32m-> 6017\u001b[1;33m                 \u001b[1;32mraise\u001b[0m \u001b[0mKeyError\u001b[0m\u001b[1;33m(\u001b[0m\u001b[1;34mf\"{labels[mask]} not found in axis\"\u001b[0m\u001b[1;33m)\u001b[0m\u001b[1;33m\u001b[0m\u001b[1;33m\u001b[0m\u001b[0m\n\u001b[0m\u001b[0;32m   6018\u001b[0m             \u001b[0mindexer\u001b[0m \u001b[1;33m=\u001b[0m \u001b[0mindexer\u001b[0m\u001b[1;33m[\u001b[0m\u001b[1;33m~\u001b[0m\u001b[0mmask\u001b[0m\u001b[1;33m]\u001b[0m\u001b[1;33m\u001b[0m\u001b[1;33m\u001b[0m\u001b[0m\n\u001b[0;32m   6019\u001b[0m         \u001b[1;32mreturn\u001b[0m \u001b[0mself\u001b[0m\u001b[1;33m.\u001b[0m\u001b[0mdelete\u001b[0m\u001b[1;33m(\u001b[0m\u001b[0mindexer\u001b[0m\u001b[1;33m)\u001b[0m\u001b[1;33m\u001b[0m\u001b[1;33m\u001b[0m\u001b[0m\n",
      "\u001b[1;31mKeyError\u001b[0m: '[ 5268  9869 11171 13635 17683 18355] not found in axis'"
     ]
    }
   ],
   "source": [
    "\n",
    "\n",
    "Q1 = np.percentile(df[\"annual_inc\"], 25, interpolation=\"midpoint\")\n",
    "Q3 = np.percentile(df[\"annual_inc\"], 75, interpolation=\"midpoint\")\n",
    "\n",
    "IQR = Q3 - Q1\n",
    "\n",
    "upper = np.where(df[\"annual_inc\"] >= (Q3 + 1.5*IQR))\n",
    "lower = np.where(df[\"annual_inc\"] <= (Q1 - 1.5*IQR))\n",
    "\n",
    "df.drop(upper[0], inplace=True)\n",
    "df.drop(lower[0], inplace=True)\n"
   ]
  },
  {
   "cell_type": "code",
   "execution_count": null,
   "metadata": {},
   "outputs": [],
   "source": []
  },
  {
   "cell_type": "code",
   "execution_count": null,
   "metadata": {},
   "outputs": [
    {
     "data": {
      "text/plain": [
       "<AxesSubplot:>"
      ]
     },
     "execution_count": 28,
     "metadata": {},
     "output_type": "execute_result"
    },
    {
     "data": {
      "image/png": "[encoded data removed]",
      "text/plain": [
       "<Figure size 432x288 with 2 Axes>"
      ]
     },
     "metadata": {
      "needs_background": "light"
     },
     "output_type": "display_data"
    }
   ],
   "source": [
    "corrm = df.corr()\n",
    "sns.heatmap(corrm)"
   ]
  },
  {
   "cell_type": "code",
   "execution_count": 54,
   "metadata": {},
   "outputs": [
    {
     "data": {
      "image/png": "[encoded data removed]",
      "text/plain": [
       "<Figure size 1296x720 with 1 Axes>"
      ]
     },
     "metadata": {
      "needs_background": "light"
     },
     "output_type": "display_data"
    }
   ],
   "source": [
    "fig, ax = plt.subplots(figsize=(18, 10))\n",
    "ax.scatter(df['loan_amnt'], df['annual_inc'])\n",
    "\n",
    "# x-axis label\n",
    "ax.set_xlabel('(Loan taken)')\n",
    "\n",
    "# y-axis label\n",
    "ax.set_ylabel('Annual Income')\n",
    "plt.show()\n"
   ]
  },
  {
   "cell_type": "code",
   "execution_count": null,
   "metadata": {},
   "outputs": [
    {
     "data": {
      "image/png": "[encoded data removed]",
      "text/plain": [
       "<Figure size 1440x3600 with 18 Axes>"
      ]
     },
     "metadata": {
      "needs_background": "light"
     },
     "output_type": "display_data"
    }
   ],
   "source": [
    "cols = 4\n",
    "rows = 10\n",
    "num_cols = df.select_dtypes(exclude='object').columns\n",
    "fig = plt.figure(figsize=(cols*5, rows*5))\n",
    "for i, col in enumerate(num_cols):\n",
    "    #for i in num_cols:\n",
    "    ax = fig.add_subplot(rows, cols, i+1)\n",
    "\n",
    "    sns.histplot(x=df[col], ax=ax)\n",
    "\n",
    "fig.tight_layout()\n",
    "plt.show()\n"
   ]
  },
  {
   "cell_type": "code",
   "execution_count": 52,
   "metadata": {},
   "outputs": [
    {
     "data": {
      "text/plain": [
       "<AxesSubplot:xlabel='inq_last_6mths', ylabel='recoveries'>"
      ]
     },
     "execution_count": 52,
     "metadata": {},
     "output_type": "execute_result"
    },
    {
     "data": {
      "image/png": "[encoded data removed]",
      "text/plain": [
       "<Figure size 1440x432 with 1 Axes>"
      ]
     },
     "metadata": {
      "needs_background": "light"
     },
     "output_type": "display_data"
    }
   ],
   "source": [
    "fig, axs = plt.subplots(1, 1,\n",
    "                        figsize=(20, 6),\n",
    "                        tight_layout=True)\n",
    "\n",
    "sns.barplot(x=\"inq_last_6mths\", y=\"recoveries\", data=df)\n"
   ]
  },
  {
   "cell_type": "code",
   "execution_count": null,
   "metadata": {},
   "outputs": [
    {
     "data": {
      "text/plain": [
       "count    38487.000000\n",
       "mean       307.877573\n",
       "std        186.797031\n",
       "min         15.690000\n",
       "25%        164.230000\n",
       "50%        272.980000\n",
       "75%        407.170000\n",
       "max       1022.930000\n",
       "Name: installment, dtype: float64"
      ]
     },
     "execution_count": 68,
     "metadata": {},
     "output_type": "execute_result"
    }
   ],
   "source": [
    "df[\"installment\"].describe()"
   ]
  },
  {
   "cell_type": "code",
   "execution_count": null,
   "metadata": {},
   "outputs": [
    {
     "data": {
      "text/plain": [
       "count    38487.000000\n",
       "mean         9.247590\n",
       "std          4.395855\n",
       "min          0.000000\n",
       "25%          6.000000\n",
       "50%          9.000000\n",
       "75%         12.000000\n",
       "max         44.000000\n",
       "Name: open_acc, dtype: float64"
      ]
     },
     "execution_count": 70,
     "metadata": {},
     "output_type": "execute_result"
    }
   ],
   "source": [
    "df[\"open_acc\"].describe()"
   ]
  },
  {
   "cell_type": "code",
   "execution_count": null,
   "metadata": {},
   "outputs": [
    {
     "data": {
      "text/plain": [
       "count    38487.000000\n",
       "mean         1.327581\n",
       "std          7.047173\n",
       "min          0.000000\n",
       "25%          0.000000\n",
       "50%          0.000000\n",
       "75%          0.000000\n",
       "max        166.429711\n",
       "Name: total_rec_late_fee, dtype: float64"
      ]
     },
     "execution_count": 71,
     "metadata": {},
     "output_type": "execute_result"
    }
   ],
   "source": [
    "df[\"total_rec_late_fee\"].describe()"
   ]
  },
  {
   "cell_type": "code",
   "execution_count": 50,
   "metadata": {},
   "outputs": [
    {
     "data": {
      "text/plain": [
       "68968.92637711817"
      ]
     },
     "execution_count": 50,
     "metadata": {},
     "output_type": "execute_result"
    }
   ],
   "source": [
    "dfnew = df.sample(n = 30)\n",
    "#dfnew[\"annual_inc\"].mean()\n",
    "df[\"annual_inc\"].mean()\n"
   ]
  },
  {
   "cell_type": "code",
   "execution_count": 48,
   "metadata": {},
   "outputs": [
    {
     "data": {
      "text/plain": [
       "0.0"
      ]
     },
     "execution_count": 48,
     "metadata": {},
     "output_type": "execute_result"
    }
   ],
   "source": [
    "from scipy.stats import ttest_1samp\n",
    "tset, pval = ttest_1samp(df[\"installment\"], 61457.06)\n",
    "pval\n"
   ]
  },
  {
   "cell_type": "code",
   "execution_count": 49,
   "metadata": {},
   "outputs": [
    {
     "name": "stdout",
     "output_type": "stream",
     "text": [
      " we are rejecting null hypothesis\n"
     ]
    }
   ],
   "source": [
    "if pval < 0.05:    # alpha value is 0.05 or 5%\n",
    "   print(\"we are rejecting null hypothesis\")\n",
    "else:\n",
    "  print(\"we are failed to null hypothesis\")\n"
   ]
  },
  {
   "cell_type": "code",
   "execution_count": 64,
   "metadata": {},
   "outputs": [],
   "source": [
    "dfg = df.groupby([\"grade\",\"sub_grade\"],sort=True)"
   ]
  },
  {
   "cell_type": "code",
   "execution_count": 65,
   "metadata": {},
   "outputs": [
    {
     "data": {
      "text/html": [
       "<div>\n",
       "<style scoped>\n",
       "    .dataframe tbody tr th:only-of-type {\n",
       "        vertical-align: middle;\n",
       "    }\n",
       "\n",
       "    .dataframe tbody tr th {\n",
       "        vertical-align: top;\n",
       "    }\n",
       "\n",
       "    .dataframe thead th {\n",
       "        text-align: right;\n",
       "    }\n",
       "</style>\n",
       "<table border=\"1\" class=\"dataframe\">\n",
       "  <thead>\n",
       "    <tr style=\"text-align: right;\">\n",
       "      <th></th>\n",
       "      <th></th>\n",
       "      <th>loan_amnt</th>\n",
       "      <th>funded_amnt</th>\n",
       "      <th>funded_amnt_inv</th>\n",
       "      <th>term</th>\n",
       "      <th>int_rate</th>\n",
       "      <th>installment</th>\n",
       "      <th>home_ownership</th>\n",
       "      <th>annual_inc</th>\n",
       "      <th>verification_status</th>\n",
       "      <th>issue_d</th>\n",
       "      <th>...</th>\n",
       "      <th>out_prncp_inv</th>\n",
       "      <th>total_pymnt</th>\n",
       "      <th>total_pymnt_inv</th>\n",
       "      <th>total_rec_prncp</th>\n",
       "      <th>total_rec_int</th>\n",
       "      <th>total_rec_late_fee</th>\n",
       "      <th>recoveries</th>\n",
       "      <th>collection_recovery_fee</th>\n",
       "      <th>policy_code</th>\n",
       "      <th>issue_month</th>\n",
       "    </tr>\n",
       "    <tr>\n",
       "      <th>grade</th>\n",
       "      <th>sub_grade</th>\n",
       "      <th></th>\n",
       "      <th></th>\n",
       "      <th></th>\n",
       "      <th></th>\n",
       "      <th></th>\n",
       "      <th></th>\n",
       "      <th></th>\n",
       "      <th></th>\n",
       "      <th></th>\n",
       "      <th></th>\n",
       "      <th></th>\n",
       "      <th></th>\n",
       "      <th></th>\n",
       "      <th></th>\n",
       "      <th></th>\n",
       "      <th></th>\n",
       "      <th></th>\n",
       "      <th></th>\n",
       "      <th></th>\n",
       "      <th></th>\n",
       "      <th></th>\n",
       "    </tr>\n",
       "  </thead>\n",
       "  <tbody>\n",
       "    <tr>\n",
       "      <th rowspan=\"5\" valign=\"top\">A</th>\n",
       "      <th>A1</th>\n",
       "      <td>3600</td>\n",
       "      <td>3600</td>\n",
       "      <td>3600.00000</td>\n",
       "      <td>36</td>\n",
       "      <td>6.03</td>\n",
       "      <td>109.57</td>\n",
       "      <td>MORTGAGE</td>\n",
       "      <td>110000.0</td>\n",
       "      <td>Not Verified</td>\n",
       "      <td>11-Dec</td>\n",
       "      <td>...</td>\n",
       "      <td>0.00</td>\n",
       "      <td>3785.271965</td>\n",
       "      <td>3785.27</td>\n",
       "      <td>3600.00</td>\n",
       "      <td>185.27</td>\n",
       "      <td>0.00</td>\n",
       "      <td>0.00</td>\n",
       "      <td>0</td>\n",
       "      <td>1</td>\n",
       "      <td>Dec</td>\n",
       "    </tr>\n",
       "    <tr>\n",
       "      <th>A2</th>\n",
       "      <td>11000</td>\n",
       "      <td>11000</td>\n",
       "      <td>11000.00000</td>\n",
       "      <td>36</td>\n",
       "      <td>6.62</td>\n",
       "      <td>337.75</td>\n",
       "      <td>RENT</td>\n",
       "      <td>70000.0</td>\n",
       "      <td>Not Verified</td>\n",
       "      <td>11-Dec</td>\n",
       "      <td>...</td>\n",
       "      <td>0.00</td>\n",
       "      <td>12158.610000</td>\n",
       "      <td>12158.61</td>\n",
       "      <td>11000.00</td>\n",
       "      <td>1158.61</td>\n",
       "      <td>0.00</td>\n",
       "      <td>0.00</td>\n",
       "      <td>0</td>\n",
       "      <td>1</td>\n",
       "      <td>Dec</td>\n",
       "    </tr>\n",
       "    <tr>\n",
       "      <th>A3</th>\n",
       "      <td>4375</td>\n",
       "      <td>4375</td>\n",
       "      <td>4375.00000</td>\n",
       "      <td>36</td>\n",
       "      <td>7.51</td>\n",
       "      <td>136.11</td>\n",
       "      <td>MORTGAGE</td>\n",
       "      <td>17108.0</td>\n",
       "      <td>Source Verified</td>\n",
       "      <td>11-Dec</td>\n",
       "      <td>...</td>\n",
       "      <td>0.00</td>\n",
       "      <td>4899.960000</td>\n",
       "      <td>4899.96</td>\n",
       "      <td>4375.00</td>\n",
       "      <td>524.96</td>\n",
       "      <td>0.00</td>\n",
       "      <td>0.00</td>\n",
       "      <td>0</td>\n",
       "      <td>1</td>\n",
       "      <td>Dec</td>\n",
       "    </tr>\n",
       "    <tr>\n",
       "      <th>A4</th>\n",
       "      <td>5000</td>\n",
       "      <td>5000</td>\n",
       "      <td>5000.00000</td>\n",
       "      <td>36</td>\n",
       "      <td>7.90</td>\n",
       "      <td>156.46</td>\n",
       "      <td>RENT</td>\n",
       "      <td>36000.0</td>\n",
       "      <td>Source Verified</td>\n",
       "      <td>11-Dec</td>\n",
       "      <td>...</td>\n",
       "      <td>0.00</td>\n",
       "      <td>5632.210000</td>\n",
       "      <td>5632.21</td>\n",
       "      <td>5000.00</td>\n",
       "      <td>632.21</td>\n",
       "      <td>0.00</td>\n",
       "      <td>0.00</td>\n",
       "      <td>0</td>\n",
       "      <td>1</td>\n",
       "      <td>Dec</td>\n",
       "    </tr>\n",
       "    <tr>\n",
       "      <th>A5</th>\n",
       "      <td>5000</td>\n",
       "      <td>5000</td>\n",
       "      <td>5000.00000</td>\n",
       "      <td>36</td>\n",
       "      <td>8.90</td>\n",
       "      <td>158.77</td>\n",
       "      <td>RENT</td>\n",
       "      <td>24044.0</td>\n",
       "      <td>Verified</td>\n",
       "      <td>11-Dec</td>\n",
       "      <td>...</td>\n",
       "      <td>0.00</td>\n",
       "      <td>5715.560000</td>\n",
       "      <td>5715.56</td>\n",
       "      <td>5000.00</td>\n",
       "      <td>715.56</td>\n",
       "      <td>0.00</td>\n",
       "      <td>0.00</td>\n",
       "      <td>0</td>\n",
       "      <td>1</td>\n",
       "      <td>Dec</td>\n",
       "    </tr>\n",
       "    <tr>\n",
       "      <th rowspan=\"5\" valign=\"top\">B</th>\n",
       "      <th>B1</th>\n",
       "      <td>3000</td>\n",
       "      <td>3000</td>\n",
       "      <td>3000.00000</td>\n",
       "      <td>36</td>\n",
       "      <td>9.91</td>\n",
       "      <td>96.68</td>\n",
       "      <td>RENT</td>\n",
       "      <td>15000.0</td>\n",
       "      <td>Source Verified</td>\n",
       "      <td>11-Dec</td>\n",
       "      <td>...</td>\n",
       "      <td>0.00</td>\n",
       "      <td>3480.269999</td>\n",
       "      <td>3480.27</td>\n",
       "      <td>3000.00</td>\n",
       "      <td>480.27</td>\n",
       "      <td>0.00</td>\n",
       "      <td>0.00</td>\n",
       "      <td>0</td>\n",
       "      <td>1</td>\n",
       "      <td>Dec</td>\n",
       "    </tr>\n",
       "    <tr>\n",
       "      <th>B2</th>\n",
       "      <td>5000</td>\n",
       "      <td>5000</td>\n",
       "      <td>4975.00000</td>\n",
       "      <td>36</td>\n",
       "      <td>10.65</td>\n",
       "      <td>162.87</td>\n",
       "      <td>RENT</td>\n",
       "      <td>24000.0</td>\n",
       "      <td>Verified</td>\n",
       "      <td>11-Dec</td>\n",
       "      <td>...</td>\n",
       "      <td>0.00</td>\n",
       "      <td>5863.155187</td>\n",
       "      <td>5833.84</td>\n",
       "      <td>5000.00</td>\n",
       "      <td>863.16</td>\n",
       "      <td>0.00</td>\n",
       "      <td>0.00</td>\n",
       "      <td>0</td>\n",
       "      <td>1</td>\n",
       "      <td>Dec</td>\n",
       "    </tr>\n",
       "    <tr>\n",
       "      <th>B3</th>\n",
       "      <td>6000</td>\n",
       "      <td>6000</td>\n",
       "      <td>6000.00000</td>\n",
       "      <td>36</td>\n",
       "      <td>11.71</td>\n",
       "      <td>198.46</td>\n",
       "      <td>MORTGAGE</td>\n",
       "      <td>84000.0</td>\n",
       "      <td>Verified</td>\n",
       "      <td>11-Dec</td>\n",
       "      <td>...</td>\n",
       "      <td>0.00</td>\n",
       "      <td>7167.072893</td>\n",
       "      <td>7167.07</td>\n",
       "      <td>6000.00</td>\n",
       "      <td>1152.07</td>\n",
       "      <td>15.00</td>\n",
       "      <td>0.00</td>\n",
       "      <td>0</td>\n",
       "      <td>1</td>\n",
       "      <td>Dec</td>\n",
       "    </tr>\n",
       "    <tr>\n",
       "      <th>B4</th>\n",
       "      <td>21000</td>\n",
       "      <td>21000</td>\n",
       "      <td>21000.00000</td>\n",
       "      <td>36</td>\n",
       "      <td>12.42</td>\n",
       "      <td>701.73</td>\n",
       "      <td>RENT</td>\n",
       "      <td>105000.0</td>\n",
       "      <td>Verified</td>\n",
       "      <td>11-Dec</td>\n",
       "      <td>...</td>\n",
       "      <td>0.00</td>\n",
       "      <td>14025.400000</td>\n",
       "      <td>14025.40</td>\n",
       "      <td>10694.96</td>\n",
       "      <td>3330.44</td>\n",
       "      <td>0.00</td>\n",
       "      <td>0.00</td>\n",
       "      <td>0</td>\n",
       "      <td>1</td>\n",
       "      <td>Dec</td>\n",
       "    </tr>\n",
       "    <tr>\n",
       "      <th>B5</th>\n",
       "      <td>3000</td>\n",
       "      <td>3000</td>\n",
       "      <td>3000.00000</td>\n",
       "      <td>60</td>\n",
       "      <td>12.69</td>\n",
       "      <td>67.79</td>\n",
       "      <td>RENT</td>\n",
       "      <td>80000.0</td>\n",
       "      <td>Source Verified</td>\n",
       "      <td>11-Dec</td>\n",
       "      <td>...</td>\n",
       "      <td>524.06</td>\n",
       "      <td>3513.330000</td>\n",
       "      <td>3513.33</td>\n",
       "      <td>2475.94</td>\n",
       "      <td>1037.39</td>\n",
       "      <td>0.00</td>\n",
       "      <td>0.00</td>\n",
       "      <td>0</td>\n",
       "      <td>1</td>\n",
       "      <td>Dec</td>\n",
       "    </tr>\n",
       "    <tr>\n",
       "      <th rowspan=\"5\" valign=\"top\">C</th>\n",
       "      <th>C1</th>\n",
       "      <td>10000</td>\n",
       "      <td>10000</td>\n",
       "      <td>10000.00000</td>\n",
       "      <td>36</td>\n",
       "      <td>13.49</td>\n",
       "      <td>339.31</td>\n",
       "      <td>RENT</td>\n",
       "      <td>49200.0</td>\n",
       "      <td>Source Verified</td>\n",
       "      <td>11-Dec</td>\n",
       "      <td>...</td>\n",
       "      <td>0.00</td>\n",
       "      <td>12231.890000</td>\n",
       "      <td>12231.89</td>\n",
       "      <td>10000.00</td>\n",
       "      <td>2214.92</td>\n",
       "      <td>16.97</td>\n",
       "      <td>0.00</td>\n",
       "      <td>0</td>\n",
       "      <td>1</td>\n",
       "      <td>Dec</td>\n",
       "    </tr>\n",
       "    <tr>\n",
       "      <th>C2</th>\n",
       "      <td>15000</td>\n",
       "      <td>15000</td>\n",
       "      <td>8725.00000</td>\n",
       "      <td>36</td>\n",
       "      <td>14.27</td>\n",
       "      <td>514.64</td>\n",
       "      <td>RENT</td>\n",
       "      <td>60000.0</td>\n",
       "      <td>Not Verified</td>\n",
       "      <td>11-Dec</td>\n",
       "      <td>...</td>\n",
       "      <td>0.00</td>\n",
       "      <td>0.000000</td>\n",
       "      <td>0.00</td>\n",
       "      <td>0.00</td>\n",
       "      <td>0.00</td>\n",
       "      <td>0.00</td>\n",
       "      <td>0.00</td>\n",
       "      <td>0</td>\n",
       "      <td>1</td>\n",
       "      <td>Dec</td>\n",
       "    </tr>\n",
       "    <tr>\n",
       "      <th>C3</th>\n",
       "      <td>6500</td>\n",
       "      <td>6500</td>\n",
       "      <td>6500.00000</td>\n",
       "      <td>60</td>\n",
       "      <td>14.65</td>\n",
       "      <td>153.45</td>\n",
       "      <td>OWN</td>\n",
       "      <td>72000.0</td>\n",
       "      <td>Not Verified</td>\n",
       "      <td>11-Dec</td>\n",
       "      <td>...</td>\n",
       "      <td>0.00</td>\n",
       "      <td>7678.017673</td>\n",
       "      <td>7678.02</td>\n",
       "      <td>6500.00</td>\n",
       "      <td>1178.02</td>\n",
       "      <td>0.00</td>\n",
       "      <td>0.00</td>\n",
       "      <td>0</td>\n",
       "      <td>1</td>\n",
       "      <td>Dec</td>\n",
       "    </tr>\n",
       "    <tr>\n",
       "      <th>C4</th>\n",
       "      <td>2500</td>\n",
       "      <td>2500</td>\n",
       "      <td>2500.00000</td>\n",
       "      <td>60</td>\n",
       "      <td>15.27</td>\n",
       "      <td>59.83</td>\n",
       "      <td>RENT</td>\n",
       "      <td>30000.0</td>\n",
       "      <td>Source Verified</td>\n",
       "      <td>11-Dec</td>\n",
       "      <td>...</td>\n",
       "      <td>0.00</td>\n",
       "      <td>1008.710000</td>\n",
       "      <td>1008.71</td>\n",
       "      <td>456.46</td>\n",
       "      <td>435.17</td>\n",
       "      <td>0.00</td>\n",
       "      <td>117.08</td>\n",
       "      <td>1.11</td>\n",
       "      <td>1</td>\n",
       "      <td>Dec</td>\n",
       "    </tr>\n",
       "    <tr>\n",
       "      <th>C5</th>\n",
       "      <td>2400</td>\n",
       "      <td>2400</td>\n",
       "      <td>2400.00000</td>\n",
       "      <td>36</td>\n",
       "      <td>15.96</td>\n",
       "      <td>84.33</td>\n",
       "      <td>RENT</td>\n",
       "      <td>12252.0</td>\n",
       "      <td>Not Verified</td>\n",
       "      <td>11-Dec</td>\n",
       "      <td>...</td>\n",
       "      <td>0.00</td>\n",
       "      <td>3005.666844</td>\n",
       "      <td>3005.67</td>\n",
       "      <td>2400.00</td>\n",
       "      <td>605.67</td>\n",
       "      <td>0.00</td>\n",
       "      <td>0.00</td>\n",
       "      <td>0</td>\n",
       "      <td>1</td>\n",
       "      <td>Dec</td>\n",
       "    </tr>\n",
       "    <tr>\n",
       "      <th rowspan=\"5\" valign=\"top\">D</th>\n",
       "      <th>D1</th>\n",
       "      <td>1000</td>\n",
       "      <td>1000</td>\n",
       "      <td>1000.00000</td>\n",
       "      <td>36</td>\n",
       "      <td>16.29</td>\n",
       "      <td>35.31</td>\n",
       "      <td>RENT</td>\n",
       "      <td>28000.0</td>\n",
       "      <td>Not Verified</td>\n",
       "      <td>11-Dec</td>\n",
       "      <td>...</td>\n",
       "      <td>0.00</td>\n",
       "      <td>1270.716942</td>\n",
       "      <td>1270.72</td>\n",
       "      <td>1000.00</td>\n",
       "      <td>270.72</td>\n",
       "      <td>0.00</td>\n",
       "      <td>0.00</td>\n",
       "      <td>0</td>\n",
       "      <td>1</td>\n",
       "      <td>Dec</td>\n",
       "    </tr>\n",
       "    <tr>\n",
       "      <th>D2</th>\n",
       "      <td>5000</td>\n",
       "      <td>5000</td>\n",
       "      <td>5000.00000</td>\n",
       "      <td>60</td>\n",
       "      <td>16.77</td>\n",
       "      <td>123.65</td>\n",
       "      <td>RENT</td>\n",
       "      <td>50004.0</td>\n",
       "      <td>Not Verified</td>\n",
       "      <td>11-Dec</td>\n",
       "      <td>...</td>\n",
       "      <td>0.00</td>\n",
       "      <td>1609.120000</td>\n",
       "      <td>1609.12</td>\n",
       "      <td>629.05</td>\n",
       "      <td>719.11</td>\n",
       "      <td>0.00</td>\n",
       "      <td>260.96</td>\n",
       "      <td>2.3</td>\n",
       "      <td>1</td>\n",
       "      <td>Dec</td>\n",
       "    </tr>\n",
       "    <tr>\n",
       "      <th>D3</th>\n",
       "      <td>17500</td>\n",
       "      <td>8950</td>\n",
       "      <td>8925.00000</td>\n",
       "      <td>60</td>\n",
       "      <td>17.27</td>\n",
       "      <td>223.74</td>\n",
       "      <td>RENT</td>\n",
       "      <td>40000.0</td>\n",
       "      <td>Verified</td>\n",
       "      <td>11-Dec</td>\n",
       "      <td>...</td>\n",
       "      <td>0.00</td>\n",
       "      <td>13227.100010</td>\n",
       "      <td>13190.15</td>\n",
       "      <td>8950.00</td>\n",
       "      <td>4277.10</td>\n",
       "      <td>0.00</td>\n",
       "      <td>0.00</td>\n",
       "      <td>0</td>\n",
       "      <td>1</td>\n",
       "      <td>Dec</td>\n",
       "    </tr>\n",
       "    <tr>\n",
       "      <th>D4</th>\n",
       "      <td>20975</td>\n",
       "      <td>13575</td>\n",
       "      <td>13550.00000</td>\n",
       "      <td>60</td>\n",
       "      <td>17.58</td>\n",
       "      <td>341.63</td>\n",
       "      <td>MORTGAGE</td>\n",
       "      <td>44000.0</td>\n",
       "      <td>Verified</td>\n",
       "      <td>11-Dec</td>\n",
       "      <td>...</td>\n",
       "      <td>0.00</td>\n",
       "      <td>18112.460870</td>\n",
       "      <td>18079.10</td>\n",
       "      <td>13575.00</td>\n",
       "      <td>4537.46</td>\n",
       "      <td>0.00</td>\n",
       "      <td>0.00</td>\n",
       "      <td>0</td>\n",
       "      <td>1</td>\n",
       "      <td>Dec</td>\n",
       "    </tr>\n",
       "    <tr>\n",
       "      <th>D5</th>\n",
       "      <td>3000</td>\n",
       "      <td>3000</td>\n",
       "      <td>3000.00000</td>\n",
       "      <td>36</td>\n",
       "      <td>18.25</td>\n",
       "      <td>108.84</td>\n",
       "      <td>MORTGAGE</td>\n",
       "      <td>65000.0</td>\n",
       "      <td>Not Verified</td>\n",
       "      <td>11-Dec</td>\n",
       "      <td>...</td>\n",
       "      <td>0.00</td>\n",
       "      <td>3917.949999</td>\n",
       "      <td>3917.95</td>\n",
       "      <td>3000.00</td>\n",
       "      <td>917.95</td>\n",
       "      <td>0.00</td>\n",
       "      <td>0.00</td>\n",
       "      <td>0</td>\n",
       "      <td>1</td>\n",
       "      <td>Dec</td>\n",
       "    </tr>\n",
       "    <tr>\n",
       "      <th rowspan=\"5\" valign=\"top\">E</th>\n",
       "      <th>E1</th>\n",
       "      <td>3000</td>\n",
       "      <td>3000</td>\n",
       "      <td>3000.00000</td>\n",
       "      <td>36</td>\n",
       "      <td>18.64</td>\n",
       "      <td>109.43</td>\n",
       "      <td>RENT</td>\n",
       "      <td>48000.0</td>\n",
       "      <td>Source Verified</td>\n",
       "      <td>11-Dec</td>\n",
       "      <td>...</td>\n",
       "      <td>0.00</td>\n",
       "      <td>3939.135294</td>\n",
       "      <td>3939.14</td>\n",
       "      <td>3000.00</td>\n",
       "      <td>939.14</td>\n",
       "      <td>0.00</td>\n",
       "      <td>0.00</td>\n",
       "      <td>0</td>\n",
       "      <td>1</td>\n",
       "      <td>Dec</td>\n",
       "    </tr>\n",
       "    <tr>\n",
       "      <th>E2</th>\n",
       "      <td>4000</td>\n",
       "      <td>4000</td>\n",
       "      <td>4000.00000</td>\n",
       "      <td>36</td>\n",
       "      <td>19.03</td>\n",
       "      <td>146.69</td>\n",
       "      <td>MORTGAGE</td>\n",
       "      <td>80000.0</td>\n",
       "      <td>Not Verified</td>\n",
       "      <td>11-Dec</td>\n",
       "      <td>...</td>\n",
       "      <td>0.00</td>\n",
       "      <td>4341.504299</td>\n",
       "      <td>4341.50</td>\n",
       "      <td>4000.00</td>\n",
       "      <td>341.50</td>\n",
       "      <td>0.00</td>\n",
       "      <td>0.00</td>\n",
       "      <td>0</td>\n",
       "      <td>1</td>\n",
       "      <td>Dec</td>\n",
       "    </tr>\n",
       "    <tr>\n",
       "      <th>E3</th>\n",
       "      <td>8200</td>\n",
       "      <td>8200</td>\n",
       "      <td>8200.00000</td>\n",
       "      <td>60</td>\n",
       "      <td>19.42</td>\n",
       "      <td>214.62</td>\n",
       "      <td>RENT</td>\n",
       "      <td>120000.0</td>\n",
       "      <td>Source Verified</td>\n",
       "      <td>11-Dec</td>\n",
       "      <td>...</td>\n",
       "      <td>0.00</td>\n",
       "      <td>11909.450010</td>\n",
       "      <td>11909.45</td>\n",
       "      <td>8200.00</td>\n",
       "      <td>3709.45</td>\n",
       "      <td>0.00</td>\n",
       "      <td>0.00</td>\n",
       "      <td>0</td>\n",
       "      <td>1</td>\n",
       "      <td>Dec</td>\n",
       "    </tr>\n",
       "    <tr>\n",
       "      <th>E4</th>\n",
       "      <td>21000</td>\n",
       "      <td>21000</td>\n",
       "      <td>20975.00000</td>\n",
       "      <td>60</td>\n",
       "      <td>19.91</td>\n",
       "      <td>555.33</td>\n",
       "      <td>RENT</td>\n",
       "      <td>50000.0</td>\n",
       "      <td>Verified</td>\n",
       "      <td>11-Dec</td>\n",
       "      <td>...</td>\n",
       "      <td>0.00</td>\n",
       "      <td>18319.140000</td>\n",
       "      <td>18297.35</td>\n",
       "      <td>8990.81</td>\n",
       "      <td>9328.33</td>\n",
       "      <td>0.00</td>\n",
       "      <td>0.00</td>\n",
       "      <td>0</td>\n",
       "      <td>1</td>\n",
       "      <td>Dec</td>\n",
       "    </tr>\n",
       "    <tr>\n",
       "      <th>E5</th>\n",
       "      <td>21000</td>\n",
       "      <td>21000</td>\n",
       "      <td>20120.80657</td>\n",
       "      <td>60</td>\n",
       "      <td>20.30</td>\n",
       "      <td>559.89</td>\n",
       "      <td>RENT</td>\n",
       "      <td>70000.0</td>\n",
       "      <td>Verified</td>\n",
       "      <td>11-Dec</td>\n",
       "      <td>...</td>\n",
       "      <td>0.00</td>\n",
       "      <td>27097.721850</td>\n",
       "      <td>24863.30</td>\n",
       "      <td>21000.00</td>\n",
       "      <td>6097.72</td>\n",
       "      <td>0.00</td>\n",
       "      <td>0.00</td>\n",
       "      <td>0</td>\n",
       "      <td>1</td>\n",
       "      <td>Dec</td>\n",
       "    </tr>\n",
       "    <tr>\n",
       "      <th rowspan=\"5\" valign=\"top\">F</th>\n",
       "      <th>F1</th>\n",
       "      <td>26800</td>\n",
       "      <td>26800</td>\n",
       "      <td>26800.00000</td>\n",
       "      <td>60</td>\n",
       "      <td>20.89</td>\n",
       "      <td>723.38</td>\n",
       "      <td>MORTGAGE</td>\n",
       "      <td>120000.0</td>\n",
       "      <td>Verified</td>\n",
       "      <td>11-Dec</td>\n",
       "      <td>...</td>\n",
       "      <td>0.00</td>\n",
       "      <td>32895.862930</td>\n",
       "      <td>32895.86</td>\n",
       "      <td>26800.00</td>\n",
       "      <td>6095.86</td>\n",
       "      <td>0.00</td>\n",
       "      <td>0.00</td>\n",
       "      <td>0</td>\n",
       "      <td>1</td>\n",
       "      <td>Dec</td>\n",
       "    </tr>\n",
       "    <tr>\n",
       "      <th>F2</th>\n",
       "      <td>5600</td>\n",
       "      <td>5600</td>\n",
       "      <td>5600.00000</td>\n",
       "      <td>60</td>\n",
       "      <td>21.28</td>\n",
       "      <td>152.39</td>\n",
       "      <td>OWN</td>\n",
       "      <td>40000.0</td>\n",
       "      <td>Source Verified</td>\n",
       "      <td>11-Dec</td>\n",
       "      <td>...</td>\n",
       "      <td>0.00</td>\n",
       "      <td>646.020000</td>\n",
       "      <td>646.02</td>\n",
       "      <td>162.02</td>\n",
       "      <td>294.94</td>\n",
       "      <td>0.00</td>\n",
       "      <td>189.06</td>\n",
       "      <td>2.09</td>\n",
       "      <td>1</td>\n",
       "      <td>Dec</td>\n",
       "    </tr>\n",
       "    <tr>\n",
       "      <th>F3</th>\n",
       "      <td>7250</td>\n",
       "      <td>7200</td>\n",
       "      <td>7175.00000</td>\n",
       "      <td>60</td>\n",
       "      <td>21.67</td>\n",
       "      <td>197.51</td>\n",
       "      <td>RENT</td>\n",
       "      <td>75000.0</td>\n",
       "      <td>Verified</td>\n",
       "      <td>11-Dec</td>\n",
       "      <td>...</td>\n",
       "      <td>0.00</td>\n",
       "      <td>8204.774089</td>\n",
       "      <td>8176.29</td>\n",
       "      <td>7200.00</td>\n",
       "      <td>1004.77</td>\n",
       "      <td>0.00</td>\n",
       "      <td>0.00</td>\n",
       "      <td>0</td>\n",
       "      <td>1</td>\n",
       "      <td>Dec</td>\n",
       "    </tr>\n",
       "    <tr>\n",
       "      <th>F4</th>\n",
       "      <td>15300</td>\n",
       "      <td>15300</td>\n",
       "      <td>15275.00000</td>\n",
       "      <td>60</td>\n",
       "      <td>22.06</td>\n",
       "      <td>423.10</td>\n",
       "      <td>RENT</td>\n",
       "      <td>85000.0</td>\n",
       "      <td>Verified</td>\n",
       "      <td>11-Dec</td>\n",
       "      <td>...</td>\n",
       "      <td>3120.68</td>\n",
       "      <td>21988.200000</td>\n",
       "      <td>21952.28</td>\n",
       "      <td>12174.21</td>\n",
       "      <td>9813.99</td>\n",
       "      <td>0.00</td>\n",
       "      <td>0.00</td>\n",
       "      <td>0</td>\n",
       "      <td>1</td>\n",
       "      <td>Dec</td>\n",
       "    </tr>\n",
       "    <tr>\n",
       "      <th>F5</th>\n",
       "      <td>10400</td>\n",
       "      <td>10400</td>\n",
       "      <td>10400.00000</td>\n",
       "      <td>60</td>\n",
       "      <td>22.35</td>\n",
       "      <td>289.32</td>\n",
       "      <td>MORTGAGE</td>\n",
       "      <td>72000.0</td>\n",
       "      <td>Source Verified</td>\n",
       "      <td>11-Dec</td>\n",
       "      <td>...</td>\n",
       "      <td>0.00</td>\n",
       "      <td>3525.350000</td>\n",
       "      <td>3525.35</td>\n",
       "      <td>813.59</td>\n",
       "      <td>1492.09</td>\n",
       "      <td>0.00</td>\n",
       "      <td>1219.67</td>\n",
       "      <td>219.5406</td>\n",
       "      <td>1</td>\n",
       "      <td>Dec</td>\n",
       "    </tr>\n",
       "    <tr>\n",
       "      <th rowspan=\"5\" valign=\"top\">G</th>\n",
       "      <th>G1</th>\n",
       "      <td>22400</td>\n",
       "      <td>22400</td>\n",
       "      <td>22400.00000</td>\n",
       "      <td>60</td>\n",
       "      <td>22.74</td>\n",
       "      <td>628.13</td>\n",
       "      <td>RENT</td>\n",
       "      <td>85000.0</td>\n",
       "      <td>Not Verified</td>\n",
       "      <td>11-Dec</td>\n",
       "      <td>...</td>\n",
       "      <td>0.00</td>\n",
       "      <td>26376.520000</td>\n",
       "      <td>26376.52</td>\n",
       "      <td>12893.89</td>\n",
       "      <td>13482.63</td>\n",
       "      <td>0.00</td>\n",
       "      <td>0.00</td>\n",
       "      <td>0</td>\n",
       "      <td>1</td>\n",
       "      <td>Dec</td>\n",
       "    </tr>\n",
       "    <tr>\n",
       "      <th>G2</th>\n",
       "      <td>12375</td>\n",
       "      <td>12375</td>\n",
       "      <td>12375.00000</td>\n",
       "      <td>60</td>\n",
       "      <td>23.13</td>\n",
       "      <td>349.79</td>\n",
       "      <td>RENT</td>\n",
       "      <td>40000.0</td>\n",
       "      <td>Not Verified</td>\n",
       "      <td>11-Dec</td>\n",
       "      <td>...</td>\n",
       "      <td>0.00</td>\n",
       "      <td>8530.260000</td>\n",
       "      <td>8530.26</td>\n",
       "      <td>2444.99</td>\n",
       "      <td>4602.60</td>\n",
       "      <td>0.00</td>\n",
       "      <td>1482.67</td>\n",
       "      <td>23.01070001</td>\n",
       "      <td>1</td>\n",
       "      <td>Dec</td>\n",
       "    </tr>\n",
       "    <tr>\n",
       "      <th>G3</th>\n",
       "      <td>13000</td>\n",
       "      <td>13000</td>\n",
       "      <td>13000.00000</td>\n",
       "      <td>60</td>\n",
       "      <td>23.52</td>\n",
       "      <td>370.38</td>\n",
       "      <td>RENT</td>\n",
       "      <td>61000.0</td>\n",
       "      <td>Source Verified</td>\n",
       "      <td>11-Dec</td>\n",
       "      <td>...</td>\n",
       "      <td>2410.09</td>\n",
       "      <td>19604.660000</td>\n",
       "      <td>19604.66</td>\n",
       "      <td>10589.91</td>\n",
       "      <td>9014.75</td>\n",
       "      <td>0.00</td>\n",
       "      <td>0.00</td>\n",
       "      <td>0</td>\n",
       "      <td>1</td>\n",
       "      <td>Dec</td>\n",
       "    </tr>\n",
       "    <tr>\n",
       "      <th>G4</th>\n",
       "      <td>24250</td>\n",
       "      <td>18100</td>\n",
       "      <td>18075.00000</td>\n",
       "      <td>60</td>\n",
       "      <td>23.91</td>\n",
       "      <td>519.76</td>\n",
       "      <td>MORTGAGE</td>\n",
       "      <td>120000.0</td>\n",
       "      <td>Verified</td>\n",
       "      <td>11-Dec</td>\n",
       "      <td>...</td>\n",
       "      <td>0.00</td>\n",
       "      <td>22206.821320</td>\n",
       "      <td>22176.15</td>\n",
       "      <td>18100.00</td>\n",
       "      <td>4106.82</td>\n",
       "      <td>0.00</td>\n",
       "      <td>0.00</td>\n",
       "      <td>0</td>\n",
       "      <td>1</td>\n",
       "      <td>Dec</td>\n",
       "    </tr>\n",
       "    <tr>\n",
       "      <th>G5</th>\n",
       "      <td>24250</td>\n",
       "      <td>24250</td>\n",
       "      <td>24225.00000</td>\n",
       "      <td>60</td>\n",
       "      <td>24.11</td>\n",
       "      <td>699.18</td>\n",
       "      <td>MORTGAGE</td>\n",
       "      <td>108000.0</td>\n",
       "      <td>Verified</td>\n",
       "      <td>11-Dec</td>\n",
       "      <td>...</td>\n",
       "      <td>0.00</td>\n",
       "      <td>35626.815310</td>\n",
       "      <td>35590.09</td>\n",
       "      <td>24250.00</td>\n",
       "      <td>11376.82</td>\n",
       "      <td>0.00</td>\n",
       "      <td>0.00</td>\n",
       "      <td>0</td>\n",
       "      <td>1</td>\n",
       "      <td>Dec</td>\n",
       "    </tr>\n",
       "  </tbody>\n",
       "</table>\n",
       "<p>35 rows × 36 columns</p>\n",
       "</div>"
      ],
      "text/plain": [
       "                 loan_amnt  funded_amnt  funded_amnt_inv term int_rate  \\\n",
       "grade sub_grade                                                          \n",
       "A     A1              3600         3600       3600.00000   36     6.03   \n",
       "      A2             11000        11000      11000.00000   36     6.62   \n",
       "      A3              4375         4375       4375.00000   36     7.51   \n",
       "      A4              5000         5000       5000.00000   36     7.90   \n",
       "      A5              5000         5000       5000.00000   36     8.90   \n",
       "B     B1              3000         3000       3000.00000   36     9.91   \n",
       "      B2              5000         5000       4975.00000   36    10.65   \n",
       "      B3              6000         6000       6000.00000   36    11.71   \n",
       "      B4             21000        21000      21000.00000   36    12.42   \n",
       "      B5              3000         3000       3000.00000   60    12.69   \n",
       "C     C1             10000        10000      10000.00000   36    13.49   \n",
       "      C2             15000        15000       8725.00000   36    14.27   \n",
       "      C3              6500         6500       6500.00000   60    14.65   \n",
       "      C4              2500         2500       2500.00000   60    15.27   \n",
       "      C5              2400         2400       2400.00000   36    15.96   \n",
       "D     D1              1000         1000       1000.00000   36    16.29   \n",
       "      D2              5000         5000       5000.00000   60    16.77   \n",
       "      D3             17500         8950       8925.00000   60    17.27   \n",
       "      D4             20975        13575      13550.00000   60    17.58   \n",
       "      D5              3000         3000       3000.00000   36    18.25   \n",
       "E     E1              3000         3000       3000.00000   36    18.64   \n",
       "      E2              4000         4000       4000.00000   36    19.03   \n",
       "      E3              8200         8200       8200.00000   60    19.42   \n",
       "      E4             21000        21000      20975.00000   60    19.91   \n",
       "      E5             21000        21000      20120.80657   60    20.30   \n",
       "F     F1             26800        26800      26800.00000   60    20.89   \n",
       "      F2              5600         5600       5600.00000   60    21.28   \n",
       "      F3              7250         7200       7175.00000   60    21.67   \n",
       "      F4             15300        15300      15275.00000   60    22.06   \n",
       "      F5             10400        10400      10400.00000   60    22.35   \n",
       "G     G1             22400        22400      22400.00000   60    22.74   \n",
       "      G2             12375        12375      12375.00000   60    23.13   \n",
       "      G3             13000        13000      13000.00000   60    23.52   \n",
       "      G4             24250        18100      18075.00000   60    23.91   \n",
       "      G5             24250        24250      24225.00000   60    24.11   \n",
       "\n",
       "                 installment home_ownership  annual_inc verification_status  \\\n",
       "grade sub_grade                                                               \n",
       "A     A1              109.57       MORTGAGE    110000.0        Not Verified   \n",
       "      A2              337.75           RENT     70000.0        Not Verified   \n",
       "      A3              136.11       MORTGAGE     17108.0     Source Verified   \n",
       "      A4              156.46           RENT     36000.0     Source Verified   \n",
       "      A5              158.77           RENT     24044.0            Verified   \n",
       "B     B1               96.68           RENT     15000.0     Source Verified   \n",
       "      B2              162.87           RENT     24000.0            Verified   \n",
       "      B3              198.46       MORTGAGE     84000.0            Verified   \n",
       "      B4              701.73           RENT    105000.0            Verified   \n",
       "      B5               67.79           RENT     80000.0     Source Verified   \n",
       "C     C1              339.31           RENT     49200.0     Source Verified   \n",
       "      C2              514.64           RENT     60000.0        Not Verified   \n",
       "      C3              153.45            OWN     72000.0        Not Verified   \n",
       "      C4               59.83           RENT     30000.0     Source Verified   \n",
       "      C5               84.33           RENT     12252.0        Not Verified   \n",
       "D     D1               35.31           RENT     28000.0        Not Verified   \n",
       "      D2              123.65           RENT     50004.0        Not Verified   \n",
       "      D3              223.74           RENT     40000.0            Verified   \n",
       "      D4              341.63       MORTGAGE     44000.0            Verified   \n",
       "      D5              108.84       MORTGAGE     65000.0        Not Verified   \n",
       "E     E1              109.43           RENT     48000.0     Source Verified   \n",
       "      E2              146.69       MORTGAGE     80000.0        Not Verified   \n",
       "      E3              214.62           RENT    120000.0     Source Verified   \n",
       "      E4              555.33           RENT     50000.0            Verified   \n",
       "      E5              559.89           RENT     70000.0            Verified   \n",
       "F     F1              723.38       MORTGAGE    120000.0            Verified   \n",
       "      F2              152.39            OWN     40000.0     Source Verified   \n",
       "      F3              197.51           RENT     75000.0            Verified   \n",
       "      F4              423.10           RENT     85000.0            Verified   \n",
       "      F5              289.32       MORTGAGE     72000.0     Source Verified   \n",
       "G     G1              628.13           RENT     85000.0        Not Verified   \n",
       "      G2              349.79           RENT     40000.0        Not Verified   \n",
       "      G3              370.38           RENT     61000.0     Source Verified   \n",
       "      G4              519.76       MORTGAGE    120000.0            Verified   \n",
       "      G5              699.18       MORTGAGE    108000.0            Verified   \n",
       "\n",
       "                issue_d  ... out_prncp_inv   total_pymnt total_pymnt_inv  \\\n",
       "grade sub_grade          ...                                               \n",
       "A     A1         11-Dec  ...          0.00   3785.271965         3785.27   \n",
       "      A2         11-Dec  ...          0.00  12158.610000        12158.61   \n",
       "      A3         11-Dec  ...          0.00   4899.960000         4899.96   \n",
       "      A4         11-Dec  ...          0.00   5632.210000         5632.21   \n",
       "      A5         11-Dec  ...          0.00   5715.560000         5715.56   \n",
       "B     B1         11-Dec  ...          0.00   3480.269999         3480.27   \n",
       "      B2         11-Dec  ...          0.00   5863.155187         5833.84   \n",
       "      B3         11-Dec  ...          0.00   7167.072893         7167.07   \n",
       "      B4         11-Dec  ...          0.00  14025.400000        14025.40   \n",
       "      B5         11-Dec  ...        524.06   3513.330000         3513.33   \n",
       "C     C1         11-Dec  ...          0.00  12231.890000        12231.89   \n",
       "      C2         11-Dec  ...          0.00      0.000000            0.00   \n",
       "      C3         11-Dec  ...          0.00   7678.017673         7678.02   \n",
       "      C4         11-Dec  ...          0.00   1008.710000         1008.71   \n",
       "      C5         11-Dec  ...          0.00   3005.666844         3005.67   \n",
       "D     D1         11-Dec  ...          0.00   1270.716942         1270.72   \n",
       "      D2         11-Dec  ...          0.00   1609.120000         1609.12   \n",
       "      D3         11-Dec  ...          0.00  13227.100010        13190.15   \n",
       "      D4         11-Dec  ...          0.00  18112.460870        18079.10   \n",
       "      D5         11-Dec  ...          0.00   3917.949999         3917.95   \n",
       "E     E1         11-Dec  ...          0.00   3939.135294         3939.14   \n",
       "      E2         11-Dec  ...          0.00   4341.504299         4341.50   \n",
       "      E3         11-Dec  ...          0.00  11909.450010        11909.45   \n",
       "      E4         11-Dec  ...          0.00  18319.140000        18297.35   \n",
       "      E5         11-Dec  ...          0.00  27097.721850        24863.30   \n",
       "F     F1         11-Dec  ...          0.00  32895.862930        32895.86   \n",
       "      F2         11-Dec  ...          0.00    646.020000          646.02   \n",
       "      F3         11-Dec  ...          0.00   8204.774089         8176.29   \n",
       "      F4         11-Dec  ...       3120.68  21988.200000        21952.28   \n",
       "      F5         11-Dec  ...          0.00   3525.350000         3525.35   \n",
       "G     G1         11-Dec  ...          0.00  26376.520000        26376.52   \n",
       "      G2         11-Dec  ...          0.00   8530.260000         8530.26   \n",
       "      G3         11-Dec  ...       2410.09  19604.660000        19604.66   \n",
       "      G4         11-Dec  ...          0.00  22206.821320        22176.15   \n",
       "      G5         11-Dec  ...          0.00  35626.815310        35590.09   \n",
       "\n",
       "                total_rec_prncp total_rec_int total_rec_late_fee  recoveries  \\\n",
       "grade sub_grade                                                                \n",
       "A     A1                3600.00        185.27               0.00        0.00   \n",
       "      A2               11000.00       1158.61               0.00        0.00   \n",
       "      A3                4375.00        524.96               0.00        0.00   \n",
       "      A4                5000.00        632.21               0.00        0.00   \n",
       "      A5                5000.00        715.56               0.00        0.00   \n",
       "B     B1                3000.00        480.27               0.00        0.00   \n",
       "      B2                5000.00        863.16               0.00        0.00   \n",
       "      B3                6000.00       1152.07              15.00        0.00   \n",
       "      B4               10694.96       3330.44               0.00        0.00   \n",
       "      B5                2475.94       1037.39               0.00        0.00   \n",
       "C     C1               10000.00       2214.92              16.97        0.00   \n",
       "      C2                   0.00          0.00               0.00        0.00   \n",
       "      C3                6500.00       1178.02               0.00        0.00   \n",
       "      C4                 456.46        435.17               0.00      117.08   \n",
       "      C5                2400.00        605.67               0.00        0.00   \n",
       "D     D1                1000.00        270.72               0.00        0.00   \n",
       "      D2                 629.05        719.11               0.00      260.96   \n",
       "      D3                8950.00       4277.10               0.00        0.00   \n",
       "      D4               13575.00       4537.46               0.00        0.00   \n",
       "      D5                3000.00        917.95               0.00        0.00   \n",
       "E     E1                3000.00        939.14               0.00        0.00   \n",
       "      E2                4000.00        341.50               0.00        0.00   \n",
       "      E3                8200.00       3709.45               0.00        0.00   \n",
       "      E4                8990.81       9328.33               0.00        0.00   \n",
       "      E5               21000.00       6097.72               0.00        0.00   \n",
       "F     F1               26800.00       6095.86               0.00        0.00   \n",
       "      F2                 162.02        294.94               0.00      189.06   \n",
       "      F3                7200.00       1004.77               0.00        0.00   \n",
       "      F4               12174.21       9813.99               0.00        0.00   \n",
       "      F5                 813.59       1492.09               0.00     1219.67   \n",
       "G     G1               12893.89      13482.63               0.00        0.00   \n",
       "      G2                2444.99       4602.60               0.00     1482.67   \n",
       "      G3               10589.91       9014.75               0.00        0.00   \n",
       "      G4               18100.00       4106.82               0.00        0.00   \n",
       "      G5               24250.00      11376.82               0.00        0.00   \n",
       "\n",
       "                collection_recovery_fee policy_code  issue_month  \n",
       "grade sub_grade                                                   \n",
       "A     A1                              0           1          Dec  \n",
       "      A2                              0           1          Dec  \n",
       "      A3                              0           1          Dec  \n",
       "      A4                              0           1          Dec  \n",
       "      A5                              0           1          Dec  \n",
       "B     B1                              0           1          Dec  \n",
       "      B2                              0           1          Dec  \n",
       "      B3                              0           1          Dec  \n",
       "      B4                              0           1          Dec  \n",
       "      B5                              0           1          Dec  \n",
       "C     C1                              0           1          Dec  \n",
       "      C2                              0           1          Dec  \n",
       "      C3                              0           1          Dec  \n",
       "      C4                           1.11           1          Dec  \n",
       "      C5                              0           1          Dec  \n",
       "D     D1                              0           1          Dec  \n",
       "      D2                            2.3           1          Dec  \n",
       "      D3                              0           1          Dec  \n",
       "      D4                              0           1          Dec  \n",
       "      D5                              0           1          Dec  \n",
       "E     E1                              0           1          Dec  \n",
       "      E2                              0           1          Dec  \n",
       "      E3                              0           1          Dec  \n",
       "      E4                              0           1          Dec  \n",
       "      E5                              0           1          Dec  \n",
       "F     F1                              0           1          Dec  \n",
       "      F2                           2.09           1          Dec  \n",
       "      F3                              0           1          Dec  \n",
       "      F4                              0           1          Dec  \n",
       "      F5                       219.5406           1          Dec  \n",
       "G     G1                              0           1          Dec  \n",
       "      G2                    23.01070001           1          Dec  \n",
       "      G3                              0           1          Dec  \n",
       "      G4                              0           1          Dec  \n",
       "      G5                              0           1          Dec  \n",
       "\n",
       "[35 rows x 36 columns]"
      ]
     },
     "execution_count": 65,
     "metadata": {},
     "output_type": "execute_result"
    }
   ],
   "source": [
    "dfg.first()"
   ]
  },
  {
   "cell_type": "code",
   "execution_count": null,
   "metadata": {},
   "outputs": [],
   "source": []
  }
 ],
 "metadata": {
  "kernelspec": {
   "display_name": "Python 3.9.7 ('base')",
   "language": "python",
   "name": "python3"
  },
  "language_info": {
   "codemirror_mode": {
    "name": "ipython",
    "version": 3
   },
   "file_extension": ".py",
   "mimetype": "text/x-python",
   "name": "python",
   "nbconvert_exporter": "python",
   "pygments_lexer": "ipython3",
   "version": "3.9.7"
  },
  "orig_nbformat": 4,
  "vscode": {
   "interpreter": {
    "hash": "dc7e237810e6699d4417a0ddb453664eb1f0a66d11a9023b40a4388b9ccdf21b"
   }
  }
 },
 "nbformat": 4,
 "nbformat_minor": 2
}
